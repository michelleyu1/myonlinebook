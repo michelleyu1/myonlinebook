{
 "cells": [
  {
   "cell_type": "code",
   "execution_count": 1,
   "id": "b5ab842c-1b93-4982-bd7b-e3c39bc36f1f",
   "metadata": {},
   "outputs": [
    {
     "ename": "ModuleNotFoundError",
     "evalue": "No module named 'contextily'",
     "output_type": "error",
     "traceback": [
      "\u001b[0;31m---------------------------------------------------------------------------\u001b[0m",
      "\u001b[0;31mModuleNotFoundError\u001b[0m                       Traceback (most recent call last)",
      "Input \u001b[0;32mIn [1]\u001b[0m, in \u001b[0;36m<cell line: 9>\u001b[0;34m()\u001b[0m\n\u001b[1;32m      7\u001b[0m \u001b[38;5;28;01mimport\u001b[39;00m \u001b[38;5;21;01mgeopandas\u001b[39;00m \u001b[38;5;28;01mas\u001b[39;00m \u001b[38;5;21;01mgpd\u001b[39;00m\n\u001b[1;32m      8\u001b[0m \u001b[38;5;28;01mfrom\u001b[39;00m \u001b[38;5;21;01mshapely\u001b[39;00m \u001b[38;5;28;01mimport\u001b[39;00m wkt\n\u001b[0;32m----> 9\u001b[0m \u001b[38;5;28;01mimport\u001b[39;00m \u001b[38;5;21;01mcontextily\u001b[39;00m \u001b[38;5;28;01mas\u001b[39;00m \u001b[38;5;21;01mctx\u001b[39;00m\n\u001b[1;32m     10\u001b[0m \u001b[38;5;28;01mfrom\u001b[39;00m \u001b[38;5;21;01mdatetime\u001b[39;00m \u001b[38;5;28;01mimport\u001b[39;00m datetime\n\u001b[1;32m     11\u001b[0m \u001b[38;5;28;01mimport\u001b[39;00m \u001b[38;5;21;01mmatplotlib\u001b[39;00m\n",
      "\u001b[0;31mModuleNotFoundError\u001b[0m: No module named 'contextily'"
     ]
    }
   ],
   "source": [
    "import os\n",
    "import ulmo   # fetch snotel\n",
    "import numpy as np\n",
    "import pandas as pd\n",
    "import xarray as xr\n",
    "import netCDF4 as nc\n",
    "import geopandas as gpd\n",
    "from shapely import wkt\n",
    "import contextily as ctx\n",
    "from datetime import datetime\n",
    "import matplotlib\n",
    "import matplotlib.pyplot as plt\n",
    "import matplotlib.dates as mdates\n",
    "from shapely.geometry import shape, Point, Polygon, box"
   ]
  },
  {
   "cell_type": "code",
   "execution_count": null,
   "id": "1ca652da-4083-476a-bf71-5c6f643f73e1",
   "metadata": {},
   "outputs": [],
   "source": [
    "import statistics"
   ]
  },
  {
   "cell_type": "code",
   "execution_count": null,
   "id": "86b7a105-c6d1-4e13-a181-f930284533de",
   "metadata": {},
   "outputs": [],
   "source": [
    "# start_date = datetime(1999,10,1)\n",
    "# end_date = datetime(2004,9,30)\n",
    "start_date = datetime(1985,10,1)\n",
    "end_date = datetime(2016,9,30)"
   ]
  },
  {
   "cell_type": "code",
   "execution_count": null,
   "id": "7350e147-d60c-4c00-9280-ed193ee9fd28",
   "metadata": {},
   "outputs": [],
   "source": [
    "# pr_prism_temp_prism_dir = '/global/cscratch1/sd/yum/swe/UofA_codebase_reproduction/v8/swe_part_pr_lag1_fltr_2_snw_szn_by_snw_acc_ok/'\n",
    "# experiments_dir = '/global/cscratch1/sd/yum/swe/UofA_bias_decomposition/experiments/2000_to_2005/'\n",
    "pr_prism_temp_prism_dir = '/global/cscratch1/sd/yum/swe/UofA_bias_decomposition/experiments/1985_to_2016/prism/'\n",
    "experiments_dir = '/global/cscratch1/sd/yum/swe/UofA_bias_decomposition/experiments/1985_to_2016/'\n",
    "save_dir = '/global/cscratch1/sd/yum/swe/UofA_bias_decomposition/analysis/bias_decomposition/'"
   ]
  },
  {
   "cell_type": "code",
   "execution_count": null,
   "id": "bf70eca5-6bf7-4041-930c-c30598d2faf2",
   "metadata": {},
   "outputs": [],
   "source": [
    "# Peak SWE\n",
    "# pr_gridmet_temp_prism_dir = '/global/cscratch1/sd/yum/swe/UofA_bias_decomposition/experiments/2000_to_2005/pr_gridmet/'\n",
    "# pr_prism_temp_gridmet_dir = '/global/cscratch1/sd/yum/swe/UofA_bias_decomposition/experiments/2000_to_2005/temp_gridmet/'\n",
    "# pr_gridmet_temp_gridmet_dir = '/global/cscratch1/sd/yum/swe/UofA_bias_decomposition/experiments/2000_to_2005/pr_gridmet_temp_gridmet/'\n",
    "# pr_livneh_temp_prism_dir = '/global/cscratch1/sd/yum/swe/UofA_bias_decomposition/experiments/2000_to_2005/pr_livneh21/'\n",
    "# pr_prism_temp_livneh_dir = '/global/cscratch1/sd/yum/swe/UofA_bias_decomposition/experiments/2000_to_2005/temp_livneh21/'\n",
    "# pr_livneh_temp_livneh_dir = '/global/cscratch1/sd/yum/swe/UofA_bias_decomposition/experiments/2000_to_2005/pr_livneh21_temp_livneh21/'\n",
    "# th_jennings_dir = '/global/cscratch1/sd/yum/swe/UofA_bias_decomposition/experiments/2000_to_2005/th_jennings/'\n",
    "pr_gridmet_temp_prism_dir = '/global/cscratch1/sd/yum/swe/UofA_bias_decomposition/experiments/1985_to_2016/pr_gridmet/'\n",
    "pr_prism_temp_gridmet_dir = '/global/cscratch1/sd/yum/swe/UofA_bias_decomposition/experiments/1985_to_2016/temp_gridmet/'\n",
    "pr_gridmet_temp_gridmet_dir = '/global/cscratch1/sd/yum/swe/UofA_bias_decomposition/experiments/1985_to_2016/pr_gridmet_temp_gridmet/'\n",
    "pr_livneh_temp_prism_dir = '/global/cscratch1/sd/yum/swe/UofA_bias_decomposition/experiments/1985_to_2016/pr_livneh21/'\n",
    "pr_prism_temp_livneh_dir = '/global/cscratch1/sd/yum/swe/UofA_bias_decomposition/experiments/1985_to_2016/temp_livneh21/'\n",
    "pr_livneh_temp_livneh_dir = '/global/cscratch1/sd/yum/swe/UofA_bias_decomposition/experiments/1985_to_2016/pr_livneh21_temp_livneh21/'\n",
    "th_jennings_dir = '/global/cscratch1/sd/yum/swe/UofA_bias_decomposition/experiments/1985_to_2016/th_jennings/'"
   ]
  },
  {
   "cell_type": "code",
   "execution_count": null,
   "id": "42ba2989-b104-4000-b50d-585b2191d189",
   "metadata": {},
   "outputs": [],
   "source": [
    "# Accumulation SWE\n",
    "pr_gridmet_temp_prism_dir = '/global/cscratch1/sd/yum/swe/UofA_bias_decomposition/experiments/1985_to_2016/acc_pr_gridmet/'\n",
    "pr_prism_temp_gridmet_dir = '/global/cscratch1/sd/yum/swe/UofA_bias_decomposition/experiments/1985_to_2016/acc_temp_gridmet/'\n",
    "pr_gridmet_temp_gridmet_dir = '/global/cscratch1/sd/yum/swe/UofA_bias_decomposition/experiments/1985_to_2016/acc_pr_gridmet_temp_gridmet/'\n",
    "pr_livneh_temp_prism_dir = '/global/cscratch1/sd/yum/swe/UofA_bias_decomposition/experiments/1985_to_2016/acc_pr_livneh21/'\n",
    "pr_prism_temp_livneh_dir = '/global/cscratch1/sd/yum/swe/UofA_bias_decomposition/experiments/1985_to_2016/acc_temp_livneh21/'\n",
    "pr_livneh_temp_livneh_dir = '/global/cscratch1/sd/yum/swe/UofA_bias_decomposition/experiments/1985_to_2016/acc_pr_livneh21_temp_livneh21/'\n",
    "th_jennings_dir = '/global/cscratch1/sd/yum/swe/UofA_bias_decomposition/experiments/1985_to_2016/th_jennings/'"
   ]
  },
  {
   "cell_type": "code",
   "execution_count": null,
   "id": "1ae62757-7dc7-4049-80c7-20d9f84c7a22",
   "metadata": {},
   "outputs": [],
   "source": [
    "# Ablation SWE\n",
    "pr_gridmet_temp_prism_dir = '/global/cscratch1/sd/yum/swe/UofA_bias_decomposition/experiments/1985_to_2016/abl_pr_gridmet/'\n",
    "pr_prism_temp_gridmet_dir = '/global/cscratch1/sd/yum/swe/UofA_bias_decomposition/experiments/1985_to_2016/abl_temp_gridmet/'\n",
    "pr_gridmet_temp_gridmet_dir = '/global/cscratch1/sd/yum/swe/UofA_bias_decomposition/experiments/1985_to_2016/abl_pr_temp_gridmet/'\n",
    "pr_livneh_temp_prism_dir = '/global/cscratch1/sd/yum/swe/UofA_bias_decomposition/experiments/1985_to_2016/abl_pr_livneh21/'\n",
    "pr_prism_temp_livneh_dir = '/global/cscratch1/sd/yum/swe/UofA_bias_decomposition/experiments/1985_to_2016/abl_temp_livneh21/'\n",
    "pr_livneh_temp_livneh_dir = '/global/cscratch1/sd/yum/swe/UofA_bias_decomposition/experiments/1985_to_2016/abl_pr_livneh21_temp_livneh21/'\n",
    "th_jennings_dir = '/global/cscratch1/sd/yum/swe/UofA_bias_decomposition/experiments/1985_to_2016/prism/'"
   ]
  },
  {
   "cell_type": "code",
   "execution_count": null,
   "id": "aae8dd65-2eff-4bc4-841a-c72c189fe22a",
   "metadata": {},
   "outputs": [],
   "source": [
    "# for each experiment:\n",
    "#    for each station:\n",
    "#       get peak SWE (1 april SWE) across years\n",
    "#       average peak SWE across years\n",
    "#    average peak SWE across stations\n",
    "#    calculate difference (compared to SNOTEL baseline)"
   ]
  },
  {
   "cell_type": "code",
   "execution_count": null,
   "id": "5b6f8b62-9074-42ad-9d90-f56b67538d94",
   "metadata": {},
   "outputs": [],
   "source": []
  },
  {
   "cell_type": "code",
   "execution_count": null,
   "id": "c95a1782-cc71-4a8f-9c9b-3e780efbc334",
   "metadata": {},
   "outputs": [],
   "source": [
    "# Load list of SNOTEL sites with available data\n",
    "sites_df = pd.read_csv(\"sites_df.csv\", index_col='Unnamed: 0')"
   ]
  },
  {
   "cell_type": "code",
   "execution_count": null,
   "id": "0ce3107f-e0f9-4ea1-8f78-a1dfea3ddad4",
   "metadata": {},
   "outputs": [],
   "source": [
    "sites_df['geometry'] = sites_df['geometry'].apply(wkt.loads)"
   ]
  },
  {
   "cell_type": "code",
   "execution_count": null,
   "id": "315e4c00-b380-4f7a-b5d7-0480adbdc07d",
   "metadata": {},
   "outputs": [],
   "source": [
    "# Convert to a Geopandas gdf\n",
    "sites_gdf = gpd.GeoDataFrame(sites_df, crs='EPSG:4326')"
   ]
  },
  {
   "cell_type": "code",
   "execution_count": null,
   "id": "64b4684d-a0ca-4487-8676-8a1e2216e30e",
   "metadata": {},
   "outputs": [],
   "source": []
  },
  {
   "cell_type": "code",
   "execution_count": null,
   "id": "8deb3bc0-5d77-448f-9cb5-8078f075fd79",
   "metadata": {},
   "outputs": [],
   "source": [
    "# Get shapefile for Upper Colorado Riber Basin (UCRB)\n",
    "uc_shp = \"/global/cscratch1/sd/yum/swe/Upper_Colorado_River_Basin_Boundary/Upper_Colorado_River_Basin_Boundary.shp\"\n",
    "\n",
    "# Read UCRB shapefile\n",
    "gm_poly_gdf = gpd.read_file(uc_shp, encoding=\"utf-8\")\n",
    "\n",
    "# Get bounds of UCRB\n",
    "gm_poly_geom = gm_poly_gdf.iloc[0].geometry\n",
    "\n",
    "# Determine sites in UCRB\n",
    "sites_idx = sites_gdf.intersects(gm_poly_geom)\n",
    "\n",
    "# Subset df to sites in UCRB\n",
    "gm_snotel_sites = sites_gdf.loc[sites_idx]"
   ]
  },
  {
   "cell_type": "code",
   "execution_count": null,
   "id": "8770fe91-9118-4b7a-b5fc-598eebbe37bb",
   "metadata": {},
   "outputs": [],
   "source": []
  },
  {
   "cell_type": "markdown",
   "id": "8c848a56-812f-4e5e-b5fd-7b57ebe0d726",
   "metadata": {
    "jp-MarkdownHeadingCollapsed": true,
    "tags": []
   },
   "source": [
    "# Calculate bias of each peak SWE; proportions - 08/19/22"
   ]
  },
  {
   "cell_type": "code",
   "execution_count": null,
   "id": "bca76e13-000e-4715-a2cd-bf56ccb8122d",
   "metadata": {},
   "outputs": [],
   "source": [
    "# for each experiment:\n",
    "#    for each station:\n",
    "#       get peak SWE (1 april SWE) across years (for each year)\n",
    "#       calculate difference in peak SWE (compared to SNOTEL baseline)\n",
    "# boxplot of peak SWE differences "
   ]
  },
  {
   "cell_type": "markdown",
   "id": "5f9d332e-6d03-4245-8b6a-d14019657510",
   "metadata": {
    "tags": []
   },
   "source": [
    "## Compute peak SWE (for each station and year)"
   ]
  },
  {
   "cell_type": "code",
   "execution_count": null,
   "id": "f03a33b6-0b36-4071-8083-d3b30e29930a",
   "metadata": {},
   "outputs": [],
   "source": [
    "def get_peak_swe(df, column):    # adapted from swe_triange_metrics function in swe_triangle_metrics.ipynb\n",
    "    if column == 'snotel_swe':\n",
    "        swe = df['snotel_swe']\n",
    "    elif column == 'ua_swe':\n",
    "        swe = df['ua_swe']\n",
    "    elif column == 'my_scaled_swe':\n",
    "        swe = df['final_scaled_swe']\n",
    "    elif column == 'my_krig_scaled_swe':\n",
    "        swe = df['krig_scaled_swe']\n",
    "    else:\n",
    "        raise ValueError('Unexpected column.')    \n",
    "    \n",
    "    # SPD (peak swe) date\n",
    "    spd_date = pd.to_datetime(df['datetime'].loc[swe.idxmax()])   #spd_date_yr = pd.to_datetime(df['datetime'].loc[df['final_scaled_swe'].idxmax()])\n",
    "    # SPD SWE depth\n",
    "    spd_depth = swe.loc[swe.idxmax()]   #spd_swe_yr = df['final_scaled_swe'].loc[df['final_scaled_swe'].idxmax()]\n",
    "    \n",
    "    return spd_date, spd_depth"
   ]
  },
  {
   "cell_type": "code",
   "execution_count": null,
   "id": "b5cb826c-9642-4e0c-a705-b23cac3774dc",
   "metadata": {},
   "outputs": [],
   "source": [
    "def peak_swe_arr(df, column, year, date_run, metric_run):    # adapted from metrics_arr function in swe_triangle_metrics.ipynb\n",
    "    yr_df = df[(pd.to_datetime(df['datetime']) > datetime(year,7,31)) & (pd.to_datetime(df['datetime']) < datetime(year+1,8,1))]\n",
    "    # yr_df = df[(pd.to_datetime(df['datetime']) > datetime(year,10,1)) & (pd.to_datetime(df['datetime']) < datetime(year+1,6,30))]\n",
    "    peak_swe_date, peak_swe_depth = get_peak_swe(yr_df, column)\n",
    "    # x_run.extend((0, peak_swe_date))\n",
    "    # y_run.extend((0, peak_swe_depth))\n",
    "    date_run.append(peak_swe_date)\n",
    "    metric_run.append(peak_swe_depth)\n",
    "    return date_run, metric_run"
   ]
  },
  {
   "cell_type": "code",
   "execution_count": null,
   "id": "3277a5b0-24a2-4e1a-98dd-a5dcc3e994a4",
   "metadata": {},
   "outputs": [],
   "source": [
    "# initialize lists\n",
    "site_code = []\n",
    "year = []\n",
    "pswe_date_snotel, pswe_snotel = [], []\n",
    "pswe_date_ua, pswe_ua = [], [] \n",
    "pswe_date_pprism_tprism, pswe_pprism_tprism = [], []\n",
    "pswe_date_pgridmet_tprism, pswe_pgridmet_tprism = [], []\n",
    "pswe_date_pprism_tgridmet, pswe_pprism_tgridmet = [], []\n",
    "pswe_date_pgridmet_tgridmet, pswe_pgridmet_tgridmet = [], []\n",
    "pswe_date_plivneh_tprism, pswe_plivneh_tprism = [], []\n",
    "pswe_date_pprism_tlivneh, pswe_pprism_tlivneh = [], []\n",
    "pswe_date_plivneh_tlivneh, pswe_plivneh_tlivneh = [], []\n",
    "pswe_date_pprism_tprism_thjennings, pswe_pprism_tprism_thjennings = [], []"
   ]
  },
  {
   "cell_type": "code",
   "execution_count": null,
   "id": "adaf28f1-10b2-4af5-80dc-010eeff5f883",
   "metadata": {
    "tags": []
   },
   "outputs": [],
   "source": [
    "for idx, row in gm_snotel_sites.iterrows():\n",
    "    sitecode = row['code']\n",
    "    print(sitecode)\n",
    "    # site_lon, site_lat = row['geometry'].x, row['geometry'].y\n",
    "    \n",
    "    if os.path.exists(f'{pr_prism_temp_prism_dir}{sitecode}_concise.csv') and sitecode != '396_UT_SNTL' and sitecode != '435_UT_SNTL':\n",
    "        # Load data\n",
    "        pr_prism_temp_prism_df = pd.read_csv(f'{pr_prism_temp_prism_dir}{sitecode}_concise.csv', index_col='Unnamed: 0')\n",
    "        pr_gridmet_temp_prism_df = pd.read_csv(f'{pr_gridmet_temp_prism_dir}{sitecode}_concise.csv', index_col='Unnamed: 0')\n",
    "        pr_prism_temp_gridmet_df = pd.read_csv(f'{pr_prism_temp_gridmet_dir}{sitecode}_concise.csv', index_col='Unnamed: 0')\n",
    "        pr_gridmet_temp_gridmet_df = pd.read_csv(f'{pr_gridmet_temp_gridmet_dir}{sitecode}_concise.csv', index_col='Unnamed: 0')\n",
    "        pr_livneh_temp_prism_df = pd.read_csv(f'{pr_livneh_temp_prism_dir}{sitecode}_concise.csv', index_col='Unnamed: 0')\n",
    "        pr_prism_temp_livneh_df = pd.read_csv(f'{pr_prism_temp_livneh_dir}{sitecode}_concise.csv', index_col='Unnamed: 0')\n",
    "        pr_livneh_temp_livneh_df = pd.read_csv(f'{pr_livneh_temp_livneh_dir}{sitecode}_concise.csv', index_col='Unnamed: 0')\n",
    "        pr_prism_temp_prism_th_jennings_df = pd.read_csv(f'{th_jennings_dir}{sitecode}_concise.csv', index_col='Unnamed: 0')\n",
    "        \n",
    "        for yr in np.unique(pd.to_datetime(pr_prism_temp_prism_df['datetime']).dt.year)[:-1]:\n",
    "            # print(yr)\n",
    "            site_code.append(sitecode)\n",
    "            year.append(yr)\n",
    "            pswe_date_snotel, pswe_snotel = peak_swe_arr(pr_prism_temp_prism_df, 'snotel_swe', yr, pswe_date_snotel, pswe_snotel)\n",
    "            pswe_date_ua, pswe_ua = peak_swe_arr(pr_prism_temp_prism_df, 'ua_swe', yr, pswe_date_ua, pswe_ua)\n",
    "            pswe_date_pprism_tprism, pswe_pprism_tprism = peak_swe_arr(pr_prism_temp_prism_df, 'my_scaled_swe', yr, pswe_date_pprism_tprism, pswe_pprism_tprism)\n",
    "            pswe_date_pgridmet_tprism, pswe_pgridmet_tprism = peak_swe_arr(pr_gridmet_temp_prism_df, 'my_scaled_swe', yr, pswe_date_pgridmet_tprism, pswe_pgridmet_tprism)\n",
    "            pswe_date_pprism_tgridmet, pswe_pprism_tgridmet = peak_swe_arr(pr_prism_temp_gridmet_df, 'my_scaled_swe', yr, pswe_date_pprism_tgridmet, pswe_pprism_tgridmet)\n",
    "            pswe_date_pgridmet_tgridmet, pswe_pgridmet_tgridmet = peak_swe_arr(pr_gridmet_temp_gridmet_df, 'my_scaled_swe', yr, pswe_date_pgridmet_tgridmet, pswe_pgridmet_tgridmet)\n",
    "            pswe_date_plivneh_tprism, pswe_plivneh_tprism = peak_swe_arr(pr_livneh_temp_prism_df, 'my_scaled_swe', yr, pswe_date_plivneh_tprism, pswe_plivneh_tprism)\n",
    "            pswe_date_pprism_tlivneh, pswe_pprism_tlivneh = peak_swe_arr(pr_prism_temp_livneh_df, 'my_scaled_swe', yr, pswe_date_pprism_tlivneh, pswe_pprism_tlivneh)\n",
    "            pswe_date_plivneh_tlivneh, pswe_plivneh_tlivneh = peak_swe_arr(pr_livneh_temp_livneh_df, 'my_scaled_swe', yr, pswe_date_plivneh_tlivneh, pswe_plivneh_tlivneh)\n",
    "            pswe_date_pprism_tprism_thjennings, pswe_pprism_tprism_thjennings = peak_swe_arr(pr_prism_temp_prism_th_jennings_df, 'my_scaled_swe', yr, pswe_date_pprism_tprism_thjennings, pswe_pprism_tprism_thjennings)\n",
    "            "
   ]
  },
  {
   "cell_type": "markdown",
   "id": "f8c36a51-28ac-4dbc-8dbc-2a2b1b6b669f",
   "metadata": {
    "tags": []
   },
   "source": [
    "## Compute Biases/Differences"
   ]
  },
  {
   "cell_type": "code",
   "execution_count": null,
   "id": "449603ee-ae28-47d0-8317-4ec4e576f43e",
   "metadata": {
    "tags": []
   },
   "outputs": [],
   "source": [
    "# UA difference\n",
    "ua_bias = (np.array(pswe_ua) / np.array(pswe_snotel))"
   ]
  },
  {
   "cell_type": "markdown",
   "id": "f81d7fd5-6283-4f66-9d68-7fe5d7985e00",
   "metadata": {},
   "source": [
    "### Level 1"
   ]
  },
  {
   "cell_type": "code",
   "execution_count": null,
   "id": "b13494ed-4db1-45b1-8359-07b885d0e64e",
   "metadata": {},
   "outputs": [],
   "source": [
    "snotel_bias = (np.array(pswe_snotel) / np.array(pswe_snotel))"
   ]
  },
  {
   "cell_type": "markdown",
   "id": "6bab1a95-1da8-4dc6-b746-f50ec6b9e180",
   "metadata": {},
   "source": [
    "### Level 2"
   ]
  },
  {
   "cell_type": "code",
   "execution_count": null,
   "id": "c0fe11e9-2173-485e-9d45-21f6bc6a7b07",
   "metadata": {},
   "outputs": [],
   "source": [
    "prism_bias = (np.array(pswe_pprism_tprism) / np.array(pswe_snotel))"
   ]
  },
  {
   "cell_type": "markdown",
   "id": "870e1b74-1509-4435-ad06-446f4e5c631f",
   "metadata": {},
   "source": [
    "### Level 3"
   ]
  },
  {
   "cell_type": "markdown",
   "id": "a3f2d832-3083-43d1-af90-440eb5ef64b6",
   "metadata": {},
   "source": [
    "#### 3ai"
   ]
  },
  {
   "cell_type": "markdown",
   "id": "706142ff-0db7-4135-8d47-9973f1b63d17",
   "metadata": {},
   "source": [
    "##### Gridmet"
   ]
  },
  {
   "cell_type": "code",
   "execution_count": null,
   "id": "595da5ef-5aa6-4122-b28f-64097438cf53",
   "metadata": {},
   "outputs": [],
   "source": [
    "pgridmet_bias = (np.array(pswe_pgridmet_tprism) / np.array(pswe_pprism_tprism)) * (np.array(pswe_pprism_tprism) / np.array(pswe_snotel))"
   ]
  },
  {
   "cell_type": "markdown",
   "id": "48bf83b8-9802-471b-b53b-ce5ee1f9a6fc",
   "metadata": {},
   "source": [
    "##### Livneh"
   ]
  },
  {
   "cell_type": "code",
   "execution_count": null,
   "id": "c59e478a-acb7-42a4-bbe4-aae17f549f70",
   "metadata": {},
   "outputs": [],
   "source": [
    "plivneh_bias = (np.array(pswe_plivneh_tprism) / np.array(pswe_pprism_tprism)) * (np.array(pswe_pprism_tprism) / np.array(pswe_snotel))"
   ]
  },
  {
   "cell_type": "markdown",
   "id": "ae2446ad-4d89-46c1-a69d-e2d62696362d",
   "metadata": {},
   "source": [
    "#### 3aii"
   ]
  },
  {
   "cell_type": "markdown",
   "id": "b24b29b7-58a6-4603-b04c-063826a6af2a",
   "metadata": {},
   "source": [
    "##### Gridmet"
   ]
  },
  {
   "cell_type": "code",
   "execution_count": null,
   "id": "86b53177-9159-4e95-b2d5-99487be3d4ca",
   "metadata": {},
   "outputs": [],
   "source": [
    "tgridmet_bias = (np.array(pswe_pprism_tgridmet) / np.array(pswe_pprism_tprism)) * (np.array(pswe_pprism_tprism) / np.array(pswe_snotel))"
   ]
  },
  {
   "cell_type": "markdown",
   "id": "c69afe9e-6b31-494e-861c-31a436c1f41c",
   "metadata": {},
   "source": [
    "##### Livneh"
   ]
  },
  {
   "cell_type": "code",
   "execution_count": null,
   "id": "3323647f-27a5-41bc-a4e8-b290fa9b0d4c",
   "metadata": {},
   "outputs": [],
   "source": [
    "tlivneh_bias = (np.array(pswe_pprism_tlivneh) / np.array(pswe_pprism_tprism)) * (np.array(pswe_pprism_tprism) / np.array(pswe_snotel))"
   ]
  },
  {
   "cell_type": "markdown",
   "id": "60d8669d-f875-4c30-9e17-f83d9958c08f",
   "metadata": {},
   "source": [
    "#### 3aiii"
   ]
  },
  {
   "cell_type": "markdown",
   "id": "0051b07a-3a01-4d4d-8b98-26d9950f8c55",
   "metadata": {},
   "source": [
    "##### Gridmet"
   ]
  },
  {
   "cell_type": "code",
   "execution_count": null,
   "id": "f803ba9b-a2df-4520-9a6f-1171ecc80ec4",
   "metadata": {},
   "outputs": [],
   "source": [
    "ptgridmet_bias = (np.array(pswe_pgridmet_tgridmet) / np.array(pswe_pprism_tprism)) * (np.array(pswe_pprism_tprism) / np.array(pswe_snotel))"
   ]
  },
  {
   "cell_type": "markdown",
   "id": "162fd4f5-f5be-4a4a-976f-993152758a11",
   "metadata": {},
   "source": [
    "##### Livneh"
   ]
  },
  {
   "cell_type": "code",
   "execution_count": null,
   "id": "f07e0c27-71db-4afc-a84d-978356f26f1c",
   "metadata": {},
   "outputs": [],
   "source": [
    "ptlivneh_bias = (np.array(pswe_plivneh_tlivneh) / np.array(pswe_pprism_tprism)) * (np.array(pswe_pprism_tprism) / np.array(pswe_snotel))"
   ]
  },
  {
   "cell_type": "markdown",
   "id": "63cf600d-937c-4de3-a9a1-a52259ac9dca",
   "metadata": {},
   "source": [
    "#### 3b"
   ]
  },
  {
   "cell_type": "code",
   "execution_count": null,
   "id": "dab064a1-5f68-433f-aa82-bc686fac06c9",
   "metadata": {},
   "outputs": [],
   "source": [
    "thjennings_bias = (np.array(pswe_pprism_tprism_thjennings) / np.array(pswe_pprism_tprism)) * (np.array(pswe_pprism_tprism) / np.array(pswe_snotel))"
   ]
  },
  {
   "cell_type": "code",
   "execution_count": null,
   "id": "428179d4-7596-469f-9ca0-9d8da49bec76",
   "metadata": {},
   "outputs": [],
   "source": []
  },
  {
   "cell_type": "markdown",
   "id": "58b0a1aa-c166-4282-8791-5419ab9936c1",
   "metadata": {
    "tags": []
   },
   "source": [
    "## Plots"
   ]
  },
  {
   "cell_type": "markdown",
   "id": "742e1a48-c7ee-4054-b1a0-d126fed97f6d",
   "metadata": {},
   "source": [
    "### Boxplot of all peak SWE differences"
   ]
  },
  {
   "cell_type": "code",
   "execution_count": null,
   "id": "d087cff2-867e-433c-8ce6-829ddb4149f9",
   "metadata": {},
   "outputs": [],
   "source": [
    "pswe_diff_df = pd.DataFrame(list(zip(snotel_bias, prism_bias, pgridmet_bias, tgridmet_bias, ptgridmet_bias, plivneh_bias, tlivneh_bias, ptlivneh_bias, thjennings_bias)), \n",
    "                                 columns = ['SNOTEL', 'PRISM', 'GridMetP', 'GridMetT', 'GridMetPT', 'LivnehP', 'LivnehT', 'LivnehPT', 'JenningsTh'])"
   ]
  },
  {
   "cell_type": "code",
   "execution_count": null,
   "id": "60c05f39-cbd9-4405-91cc-61f561adce5b",
   "metadata": {},
   "outputs": [],
   "source": [
    "# convert to %\n",
    "pswe_diff_df = pswe_diff_df*100"
   ]
  },
  {
   "cell_type": "code",
   "execution_count": null,
   "id": "0e54a15d-014f-4077-8d06-b3a616917ee4",
   "metadata": {},
   "outputs": [],
   "source": [
    "# flip order of runs (i.e. columns)\n",
    "pswe_diff_df = pswe_diff_df.iloc[:, ::-1]"
   ]
  },
  {
   "cell_type": "code",
   "execution_count": null,
   "id": "30431397-ecef-472a-9aa7-3ca09e3c1e78",
   "metadata": {},
   "outputs": [],
   "source": [
    "# colors = ['w', 'w', 'c', 'y', 'm', 'c', 'y', 'm']\n",
    "colors = ['b', 'm', 'y', 'c', 'm', 'y', 'c', 'w', 'w']\n",
    "\n",
    "fig,ax = plt.subplots(figsize=(10,6)) \n",
    "plt.axvline(100, color='black')\n",
    "ax,props = pswe_diff_df.plot.box(patch_artist=True, return_type='both', ax=ax, vert=False)\n",
    "for patch,color in zip(props['boxes'],colors):\n",
    "    patch.set_facecolor(color)\n",
    "plt.grid()\n",
    "plt.xlim(0,200)\n",
    "plt.xlabel('Peak SWE difference')\n",
    "plt.ylabel('Run')\n",
    "plt.title('Peak SWE Error')\n",
    "plt.savefig(save_dir+'boxplot_peak_swe_error_proportions', dpi=300)\n",
    "# plt.show()"
   ]
  },
  {
   "cell_type": "markdown",
   "id": "a9e9d0e4-ec57-4b1f-967c-ab7281b358a9",
   "metadata": {},
   "source": [
    "### Barplot of Mean Peak SWE"
   ]
  },
  {
   "cell_type": "code",
   "execution_count": null,
   "id": "d3354ef1-8481-4658-86fc-858408f50aeb",
   "metadata": {},
   "outputs": [],
   "source": [
    "pswe_mean_diff_list = list(pswe_diff_df.mean())"
   ]
  },
  {
   "cell_type": "code",
   "execution_count": null,
   "id": "64df6725-b13d-4f90-ae90-4a862d4a9a0d",
   "metadata": {},
   "outputs": [],
   "source": [
    "pswe_mean_diff_df = pd.DataFrame(pswe_mean_diff_list, \n",
    "                                 index = ['JenningsTh', 'LivnehPT', 'LivnehT', 'LivnehP', 'GridMetPT', 'GridMetT', 'GridMetP', 'PRISM', 'SNOTEL'],\n",
    "                                 columns = ['peak_swe_diff'])"
   ]
  },
  {
   "cell_type": "code",
   "execution_count": null,
   "id": "facc26d8-b523-4b02-ac59-e42c20f23766",
   "metadata": {},
   "outputs": [],
   "source": []
  },
  {
   "cell_type": "code",
   "execution_count": null,
   "id": "31b1f167-09b7-43ea-8cb7-658ffe2a78eb",
   "metadata": {},
   "outputs": [],
   "source": [
    "x = pswe_mean_diff_df.index.values\n",
    "y_bot = [100, 100, 100, 100, 100, 100, 100, 100, 100]\n",
    "y_dif = [pswe_mean_diff_df['peak_swe_diff'][i]-100 for i in range(9)]  \n",
    "\n",
    "lbls = [f'{round(item, 2)}%' for item in y_dif]\n",
    "\n",
    "plt.figure(figsize=(8,5))\n",
    "bars = plt.barh(x, width=y_dif, height=0.6, left=y_bot)\n",
    "# plt.bar_label(bars, fmt='%.2f')\n",
    "plt.bar_label(bars, labels=lbls)\n",
    "plt.title('Peak SWE error')\n",
    "plt.xlabel('Peak SWE difference (%)')\n",
    "plt.ylabel('Run')\n",
    "plt.axvline(100, color='k', linestyle='--')\n",
    "for color, bar in zip(['red','palevioletred','palevioletred','palevioletred','lightsalmon','lightsalmon','lightsalmon','darkred','blue'], bars.patches):\n",
    "    bar.set_color(color)\n",
    "plt.xlim(0,200)\n",
    "plt.savefig(save_dir+'boxplot_mean_peak_swe_error_proportions', dpi=300)\n",
    "# https://stackoverflow.com/questions/30228069/how-to-display-the-value-of-the-bar-on-each-bar-with-pyplot-barh"
   ]
  },
  {
   "cell_type": "code",
   "execution_count": null,
   "id": "34e80a63-2233-49bb-9d7f-1377fcf9811a",
   "metadata": {},
   "outputs": [],
   "source": [
    "ax = (pswe_mean_diff_df-100).plot(kind='barh', figsize=(8,5))\n",
    "ax.bar_label(ax.containers[0], fmt='%.2f')\n",
    "ax.set_xlim(-100,100)\n",
    "ax.axvline(0, color='black')\n",
    "ax.set_title('Peak SWE bias')\n",
    "ax.set_xlabel('Peak SWE difference (%)')\n",
    "ax.set_ylabel('Run')\n",
    "for color, bar in zip(['red','palevioletred','palevioletred','palevioletred','lightsalmon','lightsalmon','lightsalmon','darkred','blue'], ax.patches):\n",
    "    bar.set_color(color)\n",
    "# plt.savefig(save_dir+'barplot_mean_peak_swe_bias.png', dpi=300)"
   ]
  },
  {
   "cell_type": "code",
   "execution_count": null,
   "id": "dbba7d64-3fc4-4114-a58e-f2083dce074f",
   "metadata": {},
   "outputs": [],
   "source": []
  },
  {
   "cell_type": "code",
   "execution_count": null,
   "id": "44ace72e-bc11-4947-9af4-9afb7be47ae2",
   "metadata": {},
   "outputs": [],
   "source": [
    "# for each experiment:\n",
    "#    for each station:\n",
    "#       get peak SWE (1 april SWE) across years (for each year)\n",
    "#       calculate difference in peak SWE (compared to SNOTEL baseline)\n",
    "# boxplot of peak SWE differences "
   ]
  },
  {
   "cell_type": "code",
   "execution_count": null,
   "id": "0181e933-288d-43f9-8101-ca841ad9545d",
   "metadata": {},
   "outputs": [],
   "source": []
  },
  {
   "cell_type": "markdown",
   "id": "1a9f8ae8-b995-432a-9210-c61fb8543a72",
   "metadata": {},
   "source": [
    "# Compute peak SWE (for each station and year) by function call"
   ]
  },
  {
   "cell_type": "code",
   "execution_count": null,
   "id": "725c645a-0e86-40e5-ac08-24ba8181f201",
   "metadata": {},
   "outputs": [],
   "source": [
    "def get_peak_swe(df, column):    # adapted from swe_triange_metrics function in swe_triangle_metrics.ipynb\n",
    "    if column == 'snotel_swe':\n",
    "        swe = df['snotel_swe']\n",
    "    elif column == 'ua_swe':\n",
    "        swe = df['ua_swe']\n",
    "    elif column == 'my_scaled_swe':\n",
    "        swe = df['final_scaled_swe']\n",
    "    elif column == 'my_krig_scaled_swe':\n",
    "        swe = df['krig_scaled_swe']\n",
    "    else:\n",
    "        raise ValueError('Unexpected column.')    \n",
    "    \n",
    "    # SPD (peak swe) date\n",
    "    spd_date = pd.to_datetime(df['datetime'].loc[swe.idxmax()])   #spd_date_yr = pd.to_datetime(df['datetime'].loc[df['final_scaled_swe'].idxmax()])\n",
    "    # SPD SWE depth\n",
    "    spd_depth = swe.loc[swe.idxmax()]   #spd_swe_yr = df['final_scaled_swe'].loc[df['final_scaled_swe'].idxmax()]\n",
    "    \n",
    "    return spd_date, spd_depth"
   ]
  },
  {
   "cell_type": "code",
   "execution_count": null,
   "id": "316654eb-48b1-4517-bb86-fb07506c241a",
   "metadata": {},
   "outputs": [],
   "source": [
    "def peak_swe_arr(df, column, year, date_run, metric_run):    # adapted from metrics_arr function in swe_triangle_metrics.ipynb\n",
    "    yr_df = df[(pd.to_datetime(df['datetime']) > datetime(year,7,31)) & (pd.to_datetime(df['datetime']) < datetime(year+1,8,1))]\n",
    "    # yr_df = df[(pd.to_datetime(df['datetime']) > datetime(year,10,1)) & (pd.to_datetime(df['datetime']) < datetime(year+1,6,30))]\n",
    "    peak_swe_date, peak_swe_depth = get_peak_swe(yr_df, column)\n",
    "    # x_run.extend((0, peak_swe_date))\n",
    "    # y_run.extend((0, peak_swe_depth))\n",
    "    date_run.append(peak_swe_date)\n",
    "    metric_run.append(peak_swe_depth)\n",
    "    return date_run, metric_run"
   ]
  },
  {
   "cell_type": "code",
   "execution_count": null,
   "id": "a96de91b-ac6f-4700-9d57-818c1de333af",
   "metadata": {},
   "outputs": [],
   "source": [
    "def generate_boxplot():\n",
    "    "
   ]
  },
  {
   "cell_type": "code",
   "execution_count": null,
   "id": "6152ad78-9643-4134-9bb1-db78c0aa323e",
   "metadata": {},
   "outputs": [],
   "source": [
    "def mean_error_decomp_plot():\n",
    "    "
   ]
  },
  {
   "cell_type": "code",
   "execution_count": null,
   "id": "34225770-fed8-43fd-bcba-844b093d53f3",
   "metadata": {},
   "outputs": [],
   "source": [
    "def median_error_decomp_plot():\n",
    "    "
   ]
  },
  {
   "cell_type": "code",
   "execution_count": null,
   "id": "7d68033a-9e2f-45c0-902a-b36d55af4082",
   "metadata": {},
   "outputs": [],
   "source": [
    "def get_error_decomposition_plots(pr_prism_temp_prism_dir, pr_gridmet_temp_prism_dir, pr_prism_temp_gridmet_dir, pr_gridmet_temp_gridmet_dir, pr_livneh_temp_prism_dir, pr_prism_temp_livneh_dir, th_jennings_dir):\n",
    "    # Initialize lists\n",
    "    site_code = []\n",
    "    year = []\n",
    "    pswe_date_snotel, pswe_snotel = [], []\n",
    "    pswe_date_ua, pswe_ua = [], [] \n",
    "    pswe_date_pprism_tprism, pswe_pprism_tprism = [], []\n",
    "    pswe_date_pgridmet_tprism, pswe_pgridmet_tprism = [], []\n",
    "    pswe_date_pprism_tgridmet, pswe_pprism_tgridmet = [], []\n",
    "    pswe_date_pgridmet_tgridmet, pswe_pgridmet_tgridmet = [], []\n",
    "    pswe_date_plivneh_tprism, pswe_plivneh_tprism = [], []\n",
    "    pswe_date_pprism_tlivneh, pswe_pprism_tlivneh = [], []\n",
    "    pswe_date_plivneh_tlivneh, pswe_plivneh_tlivneh = [], []\n",
    "    pswe_date_pprism_tprism_thjennings, pswe_pprism_tprism_thjennings = [], []\n",
    "    \n",
    "    # Get peak SWE value for each run\n",
    "    for idx, row in gm_snotel_sites.iterrows():\n",
    "        sitecode = row['code']\n",
    "        # print(sitecode)\n",
    "        # site_lon, site_lat = row['geometry'].x, row['geometry'].y\n",
    "\n",
    "        if os.path.exists(f'{pr_prism_temp_prism_dir}{sitecode}_concise.csv') and sitecode != '396_UT_SNTL' and sitecode != '435_UT_SNTL':\n",
    "            # Load data\n",
    "            pr_prism_temp_prism_df = pd.read_csv(f'{pr_prism_temp_prism_dir}{sitecode}_concise.csv', index_col='Unnamed: 0')\n",
    "            pr_gridmet_temp_prism_df = pd.read_csv(f'{pr_gridmet_temp_prism_dir}{sitecode}_concise.csv', index_col='Unnamed: 0')\n",
    "            pr_prism_temp_gridmet_df = pd.read_csv(f'{pr_prism_temp_gridmet_dir}{sitecode}_concise.csv', index_col='Unnamed: 0')\n",
    "            pr_gridmet_temp_gridmet_df = pd.read_csv(f'{pr_gridmet_temp_gridmet_dir}{sitecode}_concise.csv', index_col='Unnamed: 0')\n",
    "            pr_livneh_temp_prism_df = pd.read_csv(f'{pr_livneh_temp_prism_dir}{sitecode}_concise.csv', index_col='Unnamed: 0')\n",
    "            pr_prism_temp_livneh_df = pd.read_csv(f'{pr_prism_temp_livneh_dir}{sitecode}_concise.csv', index_col='Unnamed: 0')\n",
    "            pr_livneh_temp_livneh_df = pd.read_csv(f'{pr_livneh_temp_livneh_dir}{sitecode}_concise.csv', index_col='Unnamed: 0')\n",
    "            pr_prism_temp_prism_th_jennings_df = pd.read_csv(f'{th_jennings_dir}{sitecode}_concise.csv', index_col='Unnamed: 0')\n",
    "\n",
    "            for yr in np.unique(pd.to_datetime(pr_prism_temp_prism_df['datetime']).dt.year)[:-1]:\n",
    "                # print(yr)\n",
    "                site_code.append(sitecode)\n",
    "                year.append(yr)\n",
    "                pswe_date_snotel, pswe_snotel = peak_swe_arr(pr_prism_temp_prism_df, 'snotel_swe', yr, pswe_date_snotel, pswe_snotel)\n",
    "                pswe_date_ua, pswe_ua = peak_swe_arr(pr_prism_temp_prism_df, 'ua_swe', yr, pswe_date_ua, pswe_ua)\n",
    "                pswe_date_pprism_tprism, pswe_pprism_tprism = peak_swe_arr(pr_prism_temp_prism_df, 'my_scaled_swe', yr, pswe_date_pprism_tprism, pswe_pprism_tprism)\n",
    "                pswe_date_pgridmet_tprism, pswe_pgridmet_tprism = peak_swe_arr(pr_gridmet_temp_prism_df, 'my_scaled_swe', yr, pswe_date_pgridmet_tprism, pswe_pgridmet_tprism)\n",
    "                pswe_date_pprism_tgridmet, pswe_pprism_tgridmet = peak_swe_arr(pr_prism_temp_gridmet_df, 'my_scaled_swe', yr, pswe_date_pprism_tgridmet, pswe_pprism_tgridmet)\n",
    "                pswe_date_pgridmet_tgridmet, pswe_pgridmet_tgridmet = peak_swe_arr(pr_gridmet_temp_gridmet_df, 'my_scaled_swe', yr, pswe_date_pgridmet_tgridmet, pswe_pgridmet_tgridmet)\n",
    "                pswe_date_plivneh_tprism, pswe_plivneh_tprism = peak_swe_arr(pr_livneh_temp_prism_df, 'my_scaled_swe', yr, pswe_date_plivneh_tprism, pswe_plivneh_tprism)\n",
    "                pswe_date_pprism_tlivneh, pswe_pprism_tlivneh = peak_swe_arr(pr_prism_temp_livneh_df, 'my_scaled_swe', yr, pswe_date_pprism_tlivneh, pswe_pprism_tlivneh)\n",
    "                pswe_date_plivneh_tlivneh, pswe_plivneh_tlivneh = peak_swe_arr(pr_livneh_temp_livneh_df, 'my_scaled_swe', yr, pswe_date_plivneh_tlivneh, pswe_plivneh_tlivneh)\n",
    "                pswe_date_pprism_tprism_thjennings, pswe_pprism_tprism_thjennings = peak_swe_arr(pr_prism_temp_prism_th_jennings_df, 'my_scaled_swe', yr, pswe_date_pprism_tprism_thjennings, pswe_pprism_tprism_thjennings)\n",
    "\n",
    "    # Compute errors by level\n",
    "    ua_bias = (np.array(pswe_ua) / np.array(pswe_snotel)) - 1\n",
    "    snotel_bias = (np.array(pswe_snotel) / np.array(pswe_snotel)) - 1\n",
    "    prism_bias = (np.array(pswe_pprism_tprism) / np.array(pswe_snotel)) - 1\n",
    "    pgridmet_bias = ((np.array(pswe_pgridmet_tprism) / np.array(pswe_pprism_tprism)) - 1)\n",
    "    plivneh_bias = ((np.array(pswe_plivneh_tprism) / np.array(pswe_pprism_tprism)) - 1)\n",
    "    tgridmet_bias = ((np.array(pswe_pprism_tgridmet) / np.array(pswe_pprism_tprism)) - 1)\n",
    "    tlivneh_bias = ((np.array(pswe_pprism_tlivneh) / np.array(pswe_pprism_tprism)) - 1)\n",
    "    ptgridmet_bias = ((np.array(pswe_pgridmet_tgridmet) / np.array(pswe_pprism_tprism)) - 1)\n",
    "    ptlivneh_bias = ((np.array(pswe_plivneh_tlivneh) / np.array(pswe_pprism_tprism)) - 1)\n",
    "    thjennings_bias = ((np.array(pswe_pprism_tprism_thjennings) / np.array(pswe_pprism_tprism)) - 1)\n",
    "    \n",
    "    # Generate Boxplot\n",
    "    pswe_diff_df = pd.DataFrame(list(zip(snotel_bias, prism_bias, pgridmet_bias, tgridmet_bias, ptgridmet_bias, plivneh_bias, tlivneh_bias, ptlivneh_bias, thjennings_bias)), \n",
    "                                 columns = ['SNOTEL', 'PRISM', 'GridMetP', 'GridMetT', 'GridMetPT', 'LivnehP', 'LivnehT', 'LivnehPT', 'JenningsTh'])\n",
    "    pswe_diff_df = pswe_diff_df*100   # convert to %\n",
    "    pswe_diff_df = pswe_diff_df.iloc[:, ::-1]       # flip order of runs (i.e. columns)\n",
    "    #plot\n",
    "    # colors = ['w', 'w', 'c', 'y', 'm', 'c', 'y', 'm']\n",
    "    colors = ['b', 'm', 'y', 'c', 'm', 'y', 'c', 'w', 'w']\n",
    "\n",
    "    fig,ax = plt.subplots(figsize=(10,6)) \n",
    "    plt.axvline(0, color='black')\n",
    "    ax,props = pswe_diff_df.plot.box(patch_artist=True, return_type='both', ax=ax, vert=False)\n",
    "    for patch,color in zip(props['boxes'],colors):\n",
    "        patch.set_facecolor(color)\n",
    "    plt.grid()\n",
    "    plt.xlim(-100,100)\n",
    "    plt.xlabel('Peak SWE difference (%)')\n",
    "    plt.ylabel('Run')\n",
    "    plt.title('Peak SWE Bias')\n",
    "    # plt.savefig(save_dir+'boxplot_peak_swe_bias', dpi=300)\n",
    "    # plt.show()\n",
    "    \n",
    "    # Generate error decomposition plot - mean\n",
    "    lb_q, ub_q = 0.25, 0.75\n",
    "    pswe_mean_diff_list = list(pswe_diff_df.mean())\n",
    "    pswe_mean_diff_df = pd.DataFrame(pswe_mean_diff_list, \n",
    "                                     index = ['JenningsTh', 'LivnehPT', 'LivnehT', 'LivnehP', 'GridMetPT', 'GridMetT', 'GridMetP', 'PRISM', 'SNOTEL'],\n",
    "                                     columns = ['peak_swe_diff'])\n",
    "    prism_mean_peak_swe_bias = pswe_mean_diff_df['peak_swe_diff']['PRISM']\n",
    "    #plot\n",
    "    x = pswe_mean_diff_df.index.values\n",
    "    y_bot = [prism_mean_peak_swe_bias, prism_mean_peak_swe_bias, prism_mean_peak_swe_bias, prism_mean_peak_swe_bias, prism_mean_peak_swe_bias, prism_mean_peak_swe_bias, prism_mean_peak_swe_bias, 0, 0]\n",
    "    y_dif = [pswe_mean_diff_df['peak_swe_diff'][i] for i in range(7)] + [prism_mean_peak_swe_bias,0]\n",
    "\n",
    "    lbls = [f'{round(item, 2)}%' for item in y_dif]\n",
    "\n",
    "    # creating error\n",
    "    lb = pd.DataFrame(data={'peak_swe_diff': pswe_diff_df.quantile(lb_q)})\n",
    "    lb_diff = pswe_mean_diff_df - lb\n",
    "    ub = pd.DataFrame(data={'peak_swe_diff': pswe_diff_df.quantile(ub_q)})\n",
    "    ub_diff = ub - pswe_mean_diff_df\n",
    "    xerror = np.vstack((lb_diff['peak_swe_diff'].to_numpy(), ub_diff['peak_swe_diff'].to_numpy()))\n",
    "\n",
    "    # plt.figure(figsize=(8,5))\n",
    "    plt.figure(figsize=(16,8))\n",
    "    # bars = plt.barh(x, y_dif, height=0.6, left=y_bot)\n",
    "    h = [0.7, 0.7, 0.7, 0.7, 0.7, 0.7, 0.7, 0.85, 1]\n",
    "    hnew = [i for i in h]\n",
    "    bars = plt.barh(x, y_dif, xerr=xerror, height=hnew, left=y_bot, ecolor='k', error_kw=dict(lw=2, capsize=4, capthick=2))\n",
    "    # plt.bar_label(bars, labels=lbls)    # label bars\n",
    "    plt.title('Mean Peak SWE Error', fontsize=24)\n",
    "    plt.xlabel('Peak SWE Difference (%)', fontsize=20)\n",
    "    # plt.ylabel('Run')\n",
    "    plt.axvline(0, color='k', linestyle='--', linewidth=2.5)\n",
    "    plt.axvline(prism_mean_peak_swe_bias, color='grey', alpha=1.0, linestyle='--', linewidth=2.5)\n",
    "    for color, bar in zip(['blue','deepskyblue','deepskyblue','palevioletred','skyblue','skyblue','lightsalmon','darkred','blue'], bars.patches):\n",
    "        bar.set_color(color)\n",
    "    plt.xlim(-50,50)\n",
    "\n",
    "    # Working with axes\n",
    "    for d in [\"left\", \"top\", \"right\"]:   # set plot spines to invisible\n",
    "        plt.gca().spines[d].set_visible(False)\n",
    "    plt.tick_params(axis='y', left=False)   # remove tick marks, keep tick labels\n",
    "\n",
    "    # Text size/fonts\n",
    "    # f = [16, 16, 16, 16, 16, 16, 16, 18, 20]\n",
    "    # fnew = [i for i in f]\n",
    "    plt.xticks(fontsize=18)\n",
    "    plt.yticks(fontsize=18)\n",
    "    plt.tick_params(axis=\"y\",direction=\"in\", pad=-25)\n",
    "\n",
    "    # plt.savefig('/global/cscratch1/sd/yum/swe/conferences/MtnClim/'+'mean_peak_swe_error', dpi=300)\n",
    "    \n",
    "    \n",
    "    \n",
    "    # Generate error decomposition plot - median\n",
    "    lb_q, ub_q = 0.25, 0.75\n",
    "    pswe_med_diff_list = list(pswe_diff_df.median())\n",
    "    pswe_med_diff_df = pd.DataFrame(pswe_med_diff_list, \n",
    "                                    index = ['JenningsTh', 'LivnehPT', 'LivnehT', 'LivnehP', 'GridMetPT', 'GridMetT', 'GridMetP', 'PRISM', 'SNOTEL'],\n",
    "                                    columns = ['peak_swe_diff'])\n",
    "    prism_med_peak_swe_bias = pswe_med_diff_df['peak_swe_diff']['PRISM']\n",
    "    #plot\n",
    "    x = pswe_med_diff_df.index.values\n",
    "    y_bot = [prism_med_peak_swe_bias, prism_med_peak_swe_bias, prism_med_peak_swe_bias, prism_med_peak_swe_bias, prism_med_peak_swe_bias, prism_med_peak_swe_bias, prism_med_peak_swe_bias, 0, 0]\n",
    "    y_dif = [pswe_med_diff_df['peak_swe_diff'][i] for i in range(7)] + [prism_med_peak_swe_bias,0]\n",
    "\n",
    "    lbls = [f'{round(item, 2)}%' for item in y_dif]\n",
    "\n",
    "    # creating error\n",
    "    lb = pd.DataFrame(data={'peak_swe_diff': pswe_diff_df.quantile(lb_q)})\n",
    "    lb_diff = pswe_med_diff_df - lb\n",
    "    ub = pd.DataFrame(data={'peak_swe_diff': pswe_diff_df.quantile(ub_q)})\n",
    "    ub_diff = ub - pswe_med_diff_df\n",
    "    xerror = np.vstack((lb_diff['peak_swe_diff'].to_numpy(), ub_diff['peak_swe_diff'].to_numpy()))\n",
    "\n",
    "    # plt.figure(figsize=(8,5))\n",
    "    plt.figure(figsize=(16,8))\n",
    "    # bars = plt.barh(x, y_dif, height=0.6, left=y_bot)\n",
    "    h = [0.7, 0.7, 0.7, 0.7, 0.7, 0.7, 0.7, 0.85, 1]\n",
    "    hnew = [i for i in h]\n",
    "    bars = plt.barh(x, y_dif, xerr=xerror, height=hnew, left=y_bot, ecolor='k', error_kw=dict(lw=2, capsize=4, capthick=2))\n",
    "    # plt.bar_label(bars, labels=lbls)    # label bars\n",
    "    plt.title('Median Peak SWE Error', fontsize=24)\n",
    "    plt.xlabel('Median SWE Difference (%)', fontsize=20)\n",
    "    # plt.ylabel('Run')\n",
    "    plt.axvline(0, color='k', linestyle='--', linewidth=2.5)\n",
    "    plt.axvline(prism_med_peak_swe_bias, color='grey', alpha=1.0, linestyle='--', linewidth=2.5)\n",
    "    for color, bar in zip(['blue','deepskyblue','deepskyblue','palevioletred','skyblue','skyblue','lightsalmon','darkred','blue'], bars.patches):\n",
    "        bar.set_color(color)\n",
    "    plt.xlim(-50,50)\n",
    "\n",
    "    # working with axes\n",
    "    for d in [\"left\", \"top\", \"right\"]:   # set plot spines to invisible\n",
    "        plt.gca().spines[d].set_visible(False)\n",
    "    plt.tick_params(axis='y', left=False)   # remove tick marks, keep tick labels\n",
    "\n",
    "    # text size/fonts\n",
    "    # f = [16, 16, 16, 16, 16, 16, 16, 18, 20]\n",
    "    # fnew = [i for i in f]\n",
    "    plt.xticks(fontsize=18)\n",
    "    plt.yticks(fontsize=18)\n",
    "    plt.tick_params(axis=\"y\",direction=\"in\", pad=-25)\n",
    "\n",
    "    # plt.savefig('/global/cscratch1/sd/yum/swe/conferences/MtnClim/'+'med_peak_swe_error', dpi=300)\n",
    "\n",
    "    return pswe_diff_df"
   ]
  },
  {
   "cell_type": "code",
   "execution_count": null,
   "id": "28df3be7-a73a-4a35-a1a9-a9f2f64fa24e",
   "metadata": {},
   "outputs": [],
   "source": [
    "an = get_error_decomposition_plots(pr_prism_temp_prism_dir, pr_gridmet_temp_prism_dir, pr_prism_temp_gridmet_dir, pr_gridmet_temp_gridmet_dir, pr_livneh_temp_prism_dir, pr_prism_temp_livneh_dir, th_jennings_dir)"
   ]
  },
  {
   "cell_type": "code",
   "execution_count": null,
   "id": "ac2cd964-7b58-48a2-8e61-865f0581858f",
   "metadata": {},
   "outputs": [],
   "source": [
    "an"
   ]
  },
  {
   "cell_type": "code",
   "execution_count": null,
   "id": "60b483fb-686f-4110-95d7-0dcbb7e5d1c1",
   "metadata": {},
   "outputs": [],
   "source": []
  },
  {
   "cell_type": "markdown",
   "id": "fa45495d-3ced-4911-80b1-d38c9368e9f9",
   "metadata": {
    "tags": []
   },
   "source": [
    "# Compute peak SWE (for each station and year)"
   ]
  },
  {
   "cell_type": "code",
   "execution_count": null,
   "id": "08dc927f-753b-44d3-bfde-629e5df58dd0",
   "metadata": {},
   "outputs": [],
   "source": [
    "def get_peak_swe(df, column):    # adapted from swe_triange_metrics function in swe_triangle_metrics.ipynb\n",
    "    if column == 'snotel_swe':\n",
    "        swe = df['snotel_swe']\n",
    "    elif column == 'ua_swe':\n",
    "        swe = df['ua_swe']\n",
    "    elif column == 'my_scaled_swe':\n",
    "        swe = df['final_scaled_swe']\n",
    "    elif column == 'my_krig_scaled_swe':\n",
    "        swe = df['krig_scaled_swe']\n",
    "    else:\n",
    "        raise ValueError('Unexpected column.')    \n",
    "    \n",
    "    # SPD (peak swe) date\n",
    "    spd_date = pd.to_datetime(df['datetime'].loc[swe.idxmax()])   #spd_date_yr = pd.to_datetime(df['datetime'].loc[df['final_scaled_swe'].idxmax()])\n",
    "    # SPD SWE depth\n",
    "    spd_depth = swe.loc[swe.idxmax()]   #spd_swe_yr = df['final_scaled_swe'].loc[df['final_scaled_swe'].idxmax()]\n",
    "    \n",
    "    return spd_date, spd_depth"
   ]
  },
  {
   "cell_type": "code",
   "execution_count": null,
   "id": "110d96e3-fc53-402c-9fb9-77dece6d1b15",
   "metadata": {},
   "outputs": [],
   "source": [
    "def peak_swe_arr(df, column, year, date_run, metric_run):    # adapted from metrics_arr function in swe_triangle_metrics.ipynb\n",
    "    yr_df = df[(pd.to_datetime(df['datetime']) > datetime(year,7,31)) & (pd.to_datetime(df['datetime']) < datetime(year+1,8,1))]\n",
    "    # yr_df = df[(pd.to_datetime(df['datetime']) > datetime(year,10,1)) & (pd.to_datetime(df['datetime']) < datetime(year+1,6,30))]\n",
    "    peak_swe_date, peak_swe_depth = get_peak_swe(yr_df, column)\n",
    "    # x_run.extend((0, peak_swe_date))\n",
    "    # y_run.extend((0, peak_swe_depth))\n",
    "    date_run.append(peak_swe_date)\n",
    "    metric_run.append(peak_swe_depth)\n",
    "    return date_run, metric_run"
   ]
  },
  {
   "cell_type": "code",
   "execution_count": null,
   "id": "7bb476ae-a2db-4f69-b51d-6f24198570e0",
   "metadata": {},
   "outputs": [],
   "source": [
    "# initialize lists\n",
    "site_code = []\n",
    "year = []\n",
    "pswe_date_snotel, pswe_snotel = [], []\n",
    "pswe_date_ua, pswe_ua = [], [] \n",
    "pswe_date_pprism_tprism, pswe_pprism_tprism = [], []\n",
    "pswe_date_pgridmet_tprism, pswe_pgridmet_tprism = [], []\n",
    "pswe_date_pprism_tgridmet, pswe_pprism_tgridmet = [], []\n",
    "pswe_date_pgridmet_tgridmet, pswe_pgridmet_tgridmet = [], []\n",
    "pswe_date_plivneh_tprism, pswe_plivneh_tprism = [], []\n",
    "pswe_date_pprism_tlivneh, pswe_pprism_tlivneh = [], []\n",
    "pswe_date_plivneh_tlivneh, pswe_plivneh_tlivneh = [], []\n",
    "pswe_date_pprism_tprism_thjennings, pswe_pprism_tprism_thjennings = [], []"
   ]
  },
  {
   "cell_type": "code",
   "execution_count": null,
   "id": "0c955fdf-2d1c-4e79-baf1-6dfb35f04559",
   "metadata": {
    "tags": []
   },
   "outputs": [],
   "source": [
    "for idx, row in gm_snotel_sites.iterrows():\n",
    "    sitecode = row['code']\n",
    "    print(sitecode)\n",
    "    # site_lon, site_lat = row['geometry'].x, row['geometry'].y\n",
    "    \n",
    "    if os.path.exists(f'{pr_prism_temp_prism_dir}{sitecode}_concise.csv') and sitecode != '396_UT_SNTL' and sitecode != '435_UT_SNTL':\n",
    "        # Load data\n",
    "        pr_prism_temp_prism_df = pd.read_csv(f'{pr_prism_temp_prism_dir}{sitecode}_concise.csv', index_col='Unnamed: 0')\n",
    "        pr_gridmet_temp_prism_df = pd.read_csv(f'{pr_gridmet_temp_prism_dir}{sitecode}_concise.csv', index_col='Unnamed: 0')\n",
    "        pr_prism_temp_gridmet_df = pd.read_csv(f'{pr_prism_temp_gridmet_dir}{sitecode}_concise.csv', index_col='Unnamed: 0')\n",
    "        pr_gridmet_temp_gridmet_df = pd.read_csv(f'{pr_gridmet_temp_gridmet_dir}{sitecode}_concise.csv', index_col='Unnamed: 0')\n",
    "        # pr_livneh_temp_prism_df = pd.read_csv(f'{pr_livneh_temp_prism_dir}{sitecode}_concise.csv', index_col='Unnamed: 0')\n",
    "        # pr_prism_temp_livneh_df = pd.read_csv(f'{pr_prism_temp_livneh_dir}{sitecode}_concise.csv', index_col='Unnamed: 0')\n",
    "        pr_livneh_temp_livneh_df = pd.read_csv(f'{pr_livneh_temp_livneh_dir}{sitecode}_concise.csv', index_col='Unnamed: 0')\n",
    "        pr_prism_temp_prism_th_jennings_df = pd.read_csv(f'{th_jennings_dir}{sitecode}_concise.csv', index_col='Unnamed: 0')\n",
    "        \n",
    "        for yr in np.unique(pd.to_datetime(pr_prism_temp_prism_df['datetime']).dt.year)[:-1]:\n",
    "            # print(yr)\n",
    "            site_code.append(sitecode)\n",
    "            year.append(yr)\n",
    "            pswe_date_snotel, pswe_snotel = peak_swe_arr(pr_prism_temp_prism_df, 'snotel_swe', yr, pswe_date_snotel, pswe_snotel)\n",
    "            pswe_date_ua, pswe_ua = peak_swe_arr(pr_prism_temp_prism_df, 'ua_swe', yr, pswe_date_ua, pswe_ua)\n",
    "            pswe_date_pprism_tprism, pswe_pprism_tprism = peak_swe_arr(pr_prism_temp_prism_df, 'my_scaled_swe', yr, pswe_date_pprism_tprism, pswe_pprism_tprism)\n",
    "            pswe_date_pgridmet_tprism, pswe_pgridmet_tprism = peak_swe_arr(pr_gridmet_temp_prism_df, 'my_scaled_swe', yr, pswe_date_pgridmet_tprism, pswe_pgridmet_tprism)\n",
    "            pswe_date_pprism_tgridmet, pswe_pprism_tgridmet = peak_swe_arr(pr_prism_temp_gridmet_df, 'my_scaled_swe', yr, pswe_date_pprism_tgridmet, pswe_pprism_tgridmet)\n",
    "            pswe_date_pgridmet_tgridmet, pswe_pgridmet_tgridmet = peak_swe_arr(pr_gridmet_temp_gridmet_df, 'my_scaled_swe', yr, pswe_date_pgridmet_tgridmet, pswe_pgridmet_tgridmet)\n",
    "            # pswe_date_plivneh_tprism, pswe_plivneh_tprism = peak_swe_arr(pr_livneh_temp_prism_df, 'my_scaled_swe', yr, pswe_date_plivneh_tprism, pswe_plivneh_tprism)\n",
    "            # pswe_date_pprism_tlivneh, pswe_pprism_tlivneh = peak_swe_arr(pr_prism_temp_livneh_df, 'my_scaled_swe', yr, pswe_date_pprism_tlivneh, pswe_pprism_tlivneh)\n",
    "            pswe_date_plivneh_tlivneh, pswe_plivneh_tlivneh = peak_swe_arr(pr_livneh_temp_livneh_df, 'my_scaled_swe', yr, pswe_date_plivneh_tlivneh, pswe_plivneh_tlivneh)\n",
    "            pswe_date_pprism_tprism_thjennings, pswe_pprism_tprism_thjennings = peak_swe_arr(pr_prism_temp_prism_th_jennings_df, 'my_scaled_swe', yr, pswe_date_pprism_tprism_thjennings, pswe_pprism_tprism_thjennings)\n",
    "            "
   ]
  },
  {
   "cell_type": "markdown",
   "id": "58e42a44-1521-4f2d-820d-93ba59594041",
   "metadata": {
    "tags": []
   },
   "source": [
    "## Compute Biases/Differences"
   ]
  },
  {
   "cell_type": "code",
   "execution_count": null,
   "id": "cba9661a-7405-4c8b-be70-bd482e0f2237",
   "metadata": {
    "tags": []
   },
   "outputs": [],
   "source": [
    "# UA difference\n",
    "ua_bias = (np.array(pswe_ua) / np.array(pswe_snotel)) - 1"
   ]
  },
  {
   "cell_type": "markdown",
   "id": "a9f5d067-013e-4422-b682-c1ac1b92094c",
   "metadata": {},
   "source": [
    "### Level 1"
   ]
  },
  {
   "cell_type": "code",
   "execution_count": null,
   "id": "aae70753-ee31-495d-bb28-fd7255f2a613",
   "metadata": {},
   "outputs": [],
   "source": [
    "snotel_bias = (np.array(pswe_snotel) / np.array(pswe_snotel)) - 1"
   ]
  },
  {
   "cell_type": "markdown",
   "id": "be796419-6e52-4747-9d15-b4c4da7f28a2",
   "metadata": {},
   "source": [
    "### Level 2"
   ]
  },
  {
   "cell_type": "code",
   "execution_count": null,
   "id": "2c4f8827-86b0-4308-95db-f42f36d45f7d",
   "metadata": {},
   "outputs": [],
   "source": [
    "prism_bias = (np.array(pswe_pprism_tprism) / np.array(pswe_snotel)) - 1"
   ]
  },
  {
   "cell_type": "markdown",
   "id": "0da8219e-ff15-4c72-b4a1-80d34084a889",
   "metadata": {},
   "source": [
    "### Level 3"
   ]
  },
  {
   "cell_type": "markdown",
   "id": "62f6502e-1ed9-4326-a896-ef634c488ef0",
   "metadata": {},
   "source": [
    "#### 3ai"
   ]
  },
  {
   "cell_type": "markdown",
   "id": "58d2296d-59d5-489a-922d-ebdb2ac041ac",
   "metadata": {},
   "source": [
    "##### Gridmet"
   ]
  },
  {
   "cell_type": "code",
   "execution_count": null,
   "id": "d2d1b011-2b79-4447-9899-676dd1df6c1c",
   "metadata": {},
   "outputs": [],
   "source": [
    "# (pswe_pgridmet_tprism_smean / pswe_snotel_smean) - 1"
   ]
  },
  {
   "cell_type": "code",
   "execution_count": null,
   "id": "ef535c91-7c54-4aa4-ac55-97555adab029",
   "metadata": {},
   "outputs": [],
   "source": [
    "pgridmet_bias = ((np.array(pswe_pgridmet_tprism) / np.array(pswe_pprism_tprism)) - 1)"
   ]
  },
  {
   "cell_type": "markdown",
   "id": "0e8461d9-2e25-4ff7-ba21-437f0968fbfd",
   "metadata": {},
   "source": [
    "##### Livneh"
   ]
  },
  {
   "cell_type": "code",
   "execution_count": null,
   "id": "5a54e308-8c8c-4ba3-97c2-4a363101de7d",
   "metadata": {},
   "outputs": [],
   "source": [
    "# (pswe_plivneh_tprism_smean / pswe_snotel_smean) - 1"
   ]
  },
  {
   "cell_type": "code",
   "execution_count": null,
   "id": "f4da90ca-73ad-4522-affa-b492aae74b01",
   "metadata": {},
   "outputs": [],
   "source": [
    "plivneh_bias = ((np.array(pswe_plivneh_tprism) / np.array(pswe_pprism_tprism)) - 1)"
   ]
  },
  {
   "cell_type": "markdown",
   "id": "ac2952a6-72b0-4a98-beda-152b383844e2",
   "metadata": {},
   "source": [
    "#### 3aii"
   ]
  },
  {
   "cell_type": "markdown",
   "id": "610fe046-ac79-4c09-87e2-8bf5872a2c31",
   "metadata": {},
   "source": [
    "##### Gridmet"
   ]
  },
  {
   "cell_type": "code",
   "execution_count": null,
   "id": "64308a32-1c96-40ff-b847-926e90a11c1a",
   "metadata": {},
   "outputs": [],
   "source": [
    "# (pswe_pprism_tgridmet_smean / pswe_snotel_smean) - 1"
   ]
  },
  {
   "cell_type": "code",
   "execution_count": null,
   "id": "c66da96f-7aee-4d27-8a89-3e2e8f62bb0b",
   "metadata": {},
   "outputs": [],
   "source": [
    "tgridmet_bias = ((np.array(pswe_pprism_tgridmet) / np.array(pswe_pprism_tprism)) - 1)"
   ]
  },
  {
   "cell_type": "markdown",
   "id": "5f54ffc8-fab2-48cb-99a6-b47994778b63",
   "metadata": {},
   "source": [
    "##### Livneh"
   ]
  },
  {
   "cell_type": "code",
   "execution_count": null,
   "id": "82bae2f1-c9de-4995-a4da-cc17de85395e",
   "metadata": {},
   "outputs": [],
   "source": [
    "# (pswe_pprism_tlivneh_smean / pswe_snotel_smean) - 1"
   ]
  },
  {
   "cell_type": "code",
   "execution_count": null,
   "id": "145ebeab-83d8-4e66-b37f-ba70d5af6b0b",
   "metadata": {},
   "outputs": [],
   "source": [
    "tlivneh_bias = ((np.array(pswe_pprism_tlivneh) / np.array(pswe_pprism_tprism)) - 1)"
   ]
  },
  {
   "cell_type": "markdown",
   "id": "46405cbe-82bc-4fa3-bb89-15caa66856e5",
   "metadata": {},
   "source": [
    "#### 3aiii"
   ]
  },
  {
   "cell_type": "markdown",
   "id": "23776600-fc26-4b0f-ac1d-14226f1f48c0",
   "metadata": {},
   "source": [
    "##### Gridmet"
   ]
  },
  {
   "cell_type": "code",
   "execution_count": null,
   "id": "bc721604-ce6c-44a0-83bf-751762a39cb0",
   "metadata": {},
   "outputs": [],
   "source": [
    "# (pswe_pgridmet_tgridmet_smean / pswe_snotel_smean) - 1"
   ]
  },
  {
   "cell_type": "code",
   "execution_count": null,
   "id": "0e4f1040-2422-4cd5-970a-6bbbce9ece23",
   "metadata": {},
   "outputs": [],
   "source": [
    "ptgridmet_bias = ((np.array(pswe_pgridmet_tgridmet) / np.array(pswe_pprism_tprism)) - 1)"
   ]
  },
  {
   "cell_type": "markdown",
   "id": "11ba37e0-3cbc-498c-b175-b0b4a7bafaa3",
   "metadata": {},
   "source": [
    "##### Livneh"
   ]
  },
  {
   "cell_type": "code",
   "execution_count": null,
   "id": "38f4663e-6100-4018-87cc-b7e527341f67",
   "metadata": {},
   "outputs": [],
   "source": [
    "# (pswe_plivneh_tlivneh_smean / pswe_snotel_smean) - 1"
   ]
  },
  {
   "cell_type": "code",
   "execution_count": null,
   "id": "ba38da4d-02fa-4b37-9069-e3a0c2d248c0",
   "metadata": {},
   "outputs": [],
   "source": [
    "ptlivneh_bias = ((np.array(pswe_plivneh_tlivneh) / np.array(pswe_pprism_tprism)) - 1)"
   ]
  },
  {
   "cell_type": "markdown",
   "id": "71def269-aae2-48c3-b01b-1eee3ba543b1",
   "metadata": {},
   "source": [
    "#### 3b"
   ]
  },
  {
   "cell_type": "code",
   "execution_count": null,
   "id": "17f70e9e-4be1-485a-bbdc-92e6fd3ba776",
   "metadata": {},
   "outputs": [],
   "source": [
    "# (pswe_pprism_tprism_thjennings_smean / pswe_snotel_smean) - 1"
   ]
  },
  {
   "cell_type": "code",
   "execution_count": null,
   "id": "e45c576a-ac05-4eac-a739-38340c6d3f98",
   "metadata": {},
   "outputs": [],
   "source": [
    "thjennings_bias = ((np.array(pswe_pprism_tprism_thjennings) / np.array(pswe_pprism_tprism)) - 1)"
   ]
  },
  {
   "cell_type": "code",
   "execution_count": null,
   "id": "efa356a7-421a-43bc-a341-e03af1278946",
   "metadata": {},
   "outputs": [],
   "source": []
  },
  {
   "cell_type": "markdown",
   "id": "a7e27662-2a8c-44ba-888d-f8147bcf9173",
   "metadata": {
    "tags": []
   },
   "source": [
    "## Plots"
   ]
  },
  {
   "cell_type": "code",
   "execution_count": null,
   "id": "a7490bcd-7544-4c6a-a516-06c365481a4a",
   "metadata": {},
   "outputs": [],
   "source": [
    "pswe_diff_df = pd.DataFrame(list(zip(snotel_bias, prism_bias, pgridmet_bias, tgridmet_bias, ptgridmet_bias, plivneh_bias, tlivneh_bias, ptlivneh_bias, thjennings_bias)), \n",
    "                                 columns = ['SNOTEL', 'PRISM', 'GridMetP', 'GridMetT', 'GridMetPT', 'LivnehP', 'LivnehT', 'LivnehPT', 'JenningsTh'])"
   ]
  },
  {
   "cell_type": "code",
   "execution_count": null,
   "id": "38fb3672-4c5f-47e7-bc39-c460409f425d",
   "metadata": {},
   "outputs": [],
   "source": [
    "# convert to %\n",
    "pswe_diff_df = pswe_diff_df*100"
   ]
  },
  {
   "cell_type": "code",
   "execution_count": null,
   "id": "157dca7e-ad42-4816-b692-5b7fdad9795b",
   "metadata": {},
   "outputs": [],
   "source": [
    "# flip order of runs (i.e. columns)\n",
    "pswe_diff_df = pswe_diff_df.iloc[:, ::-1]"
   ]
  },
  {
   "cell_type": "markdown",
   "id": "ecc95ae8-28bf-47f7-835a-4a4267b79390",
   "metadata": {
    "tags": []
   },
   "source": [
    "### Boxplot of all peak SWE differences"
   ]
  },
  {
   "cell_type": "code",
   "execution_count": null,
   "id": "c454be8e-d028-4208-a3a3-8d176dcb34fc",
   "metadata": {},
   "outputs": [],
   "source": [
    "# Peak SWE\n",
    "# colors = ['w', 'w', 'c', 'y', 'm', 'c', 'y', 'm']\n",
    "colors = ['b', 'm', 'y', 'c', 'm', 'y', 'c', 'w', 'w']\n",
    "\n",
    "fig,ax = plt.subplots(figsize=(10,6)) \n",
    "plt.axvline(0, color='black')\n",
    "ax,props = pswe_diff_df.plot.box(patch_artist=True, return_type='both', ax=ax, vert=False)\n",
    "for patch,color in zip(props['boxes'],colors):\n",
    "    patch.set_facecolor(color)\n",
    "plt.grid()\n",
    "plt.xlim(-100,100)\n",
    "plt.xlabel('Peak SWE difference (%)')\n",
    "plt.ylabel('Run')\n",
    "plt.title('Peak SWE Bias')\n",
    "# plt.savefig(save_dir+'boxplot_peak_swe_bias', dpi=300)\n",
    "# plt.show()"
   ]
  },
  {
   "cell_type": "markdown",
   "id": "a38c042f-da5a-4ba4-8b14-145a105a1323",
   "metadata": {},
   "source": [
    "### Barplot of Mean Peak SWE"
   ]
  },
  {
   "cell_type": "code",
   "execution_count": null,
   "id": "81d116b9-0d2b-477d-ad15-18f72cd66e98",
   "metadata": {},
   "outputs": [],
   "source": [
    "lb_q, ub_q = 0.25, 0.75"
   ]
  },
  {
   "cell_type": "code",
   "execution_count": null,
   "id": "966ed931-2158-4eff-a63a-e915c661d62d",
   "metadata": {},
   "outputs": [],
   "source": [
    "pswe_mean_diff_list = list(pswe_diff_df.mean())"
   ]
  },
  {
   "cell_type": "code",
   "execution_count": null,
   "id": "b78a7f87-d18f-49c7-96c3-16f8aefe70bb",
   "metadata": {},
   "outputs": [],
   "source": [
    "pswe_mean_diff_df = pd.DataFrame(pswe_mean_diff_list, \n",
    "                                 index = ['JenningsTh', 'LivnehPT', 'LivnehT', 'LivnehP', 'GridMetPT', 'GridMetT', 'GridMetP', 'PRISM', 'SNOTEL'],\n",
    "                                 columns = ['peak_swe_diff'])"
   ]
  },
  {
   "cell_type": "code",
   "execution_count": null,
   "id": "9892ddb8-5e4a-453c-9673-b1c91c88788b",
   "metadata": {
    "tags": []
   },
   "outputs": [],
   "source": [
    "import numpy as np\n",
    "import matplotlib.pyplot as plt\n",
    "\n",
    "x = np.arange(10)\n",
    "y_bot = np.linspace(30, 50, 10)\n",
    "y_dif = np.linspace(10, 5, 10)\n",
    "\n",
    "plt.barh(x, y_dif, left=y_bot)"
   ]
  },
  {
   "cell_type": "code",
   "execution_count": null,
   "id": "8b10a66d-1408-44d7-a127-c2470f7b9b94",
   "metadata": {},
   "outputs": [],
   "source": [
    "prism_mean_peak_swe_bias = pswe_mean_diff_df['peak_swe_diff']['PRISM']"
   ]
  },
  {
   "cell_type": "code",
   "execution_count": null,
   "id": "0449e959-f680-4aa8-892e-1f82655cc8b5",
   "metadata": {},
   "outputs": [],
   "source": [
    "x = pswe_mean_diff_df.index.values\n",
    "y_bot = [prism_mean_peak_swe_bias, prism_mean_peak_swe_bias, prism_mean_peak_swe_bias, prism_mean_peak_swe_bias, prism_mean_peak_swe_bias, prism_mean_peak_swe_bias, prism_mean_peak_swe_bias, 0, 0]\n",
    "y_dif = [pswe_mean_diff_df['peak_swe_diff'][i] for i in range(7)] + [prism_mean_peak_swe_bias,0]\n",
    "# y_bot = [pswe_mean_diff_df['peak_swe_diff'][i] + prism_mean_peak_swe_bias for i in range(7)] + [0,0]\n",
    "# y_dif = [pswe_mean_diff_df['peak_swe_diff'][i] for i in range(7)] + [prism_mean_peak_swe_bias,0]\n",
    "# y_bot = [pswe_mean_diff_df['peak_swe_diff'][i] + prism_mean_peak_swe_bias for i in range(7)] + [0,0]\n",
    "# y_dif = [prism_mean_peak_swe_bias, prism_mean_peak_swe_bias, prism_mean_peak_swe_bias, prism_mean_peak_swe_bias, prism_mean_peak_swe_bias, prism_mean_peak_swe_bias, prism_mean_peak_swe_bias, prism_mean_peak_swe_bias, 0]\n",
    "\n",
    "lbls = [f'{round(item, 2)}%' for item in y_dif]\n",
    "\n",
    "# creating error\n",
    "lb = pd.DataFrame(data={'peak_swe_diff': pswe_diff_df.quantile(lb_q)})\n",
    "lb_diff = pswe_mean_diff_df - lb\n",
    "ub = pd.DataFrame(data={'peak_swe_diff': pswe_diff_df.quantile(ub_q)})\n",
    "ub_diff = ub - pswe_mean_diff_df\n",
    "xerror = np.vstack((lb_diff['peak_swe_diff'].to_numpy(), ub_diff['peak_swe_diff'].to_numpy()))\n",
    "\n",
    "plt.figure(figsize=(8,5))\n",
    "# bars = plt.barh(x, y_dif, height=0.6, left=y_bot)\n",
    "bars = plt.barh(x, y_dif, xerr=xerror, height=0.8, left=y_bot, ecolor='k', error_kw=dict(lw=1.25, capsize=2.5, capthick=1.25))\n",
    "# plt.bar_label(bars, fmt='%.2f')\n",
    "plt.bar_label(bars, labels=lbls)\n",
    "plt.title('Mean peak SWE error')\n",
    "plt.xlabel('Peak SWE difference (%)')\n",
    "# plt.ylabel('Run')\n",
    "plt.axvline(0, color='k', linestyle='--')\n",
    "plt.axvline(prism_mean_peak_swe_bias, color='grey', alpha=0.75, linestyle='--')\n",
    "for color, bar in zip(['red','deepskyblue','deepskyblue','palevioletred','skyblue','lightsalmon','lightsalmon','darkred','blue'], bars.patches):\n",
    "    bar.set_color(color)\n",
    "plt.xlim(-75,75)\n",
    "\n",
    "# plt.savefig(save_dir+'mean_peak_swe_error', dpi=300)\n",
    "# https://stackoverflow.com/questions/30228069/how-to-display-the-value-of-the-bar-on-each-bar-with-pyplot-barh"
   ]
  },
  {
   "cell_type": "code",
   "execution_count": null,
   "id": "433f56ec-d990-4d36-bf56-e51265c6393b",
   "metadata": {},
   "outputs": [],
   "source": [
    "x = pswe_mean_diff_df.index.values\n",
    "y_bot = [prism_mean_peak_swe_bias, prism_mean_peak_swe_bias, prism_mean_peak_swe_bias, prism_mean_peak_swe_bias, prism_mean_peak_swe_bias, prism_mean_peak_swe_bias, prism_mean_peak_swe_bias, 0, 0]\n",
    "y_dif = [pswe_mean_diff_df['peak_swe_diff'][i] for i in range(7)] + [prism_mean_peak_swe_bias,0]\n",
    "\n",
    "lbls = [f'{round(item, 2)}%' for item in y_dif]\n",
    "\n",
    "# creating error\n",
    "lb = pd.DataFrame(data={'peak_swe_diff': pswe_diff_df.quantile(lb_q)})\n",
    "lb_diff = pswe_mean_diff_df - lb\n",
    "ub = pd.DataFrame(data={'peak_swe_diff': pswe_diff_df.quantile(ub_q)})\n",
    "ub_diff = ub - pswe_mean_diff_df\n",
    "xerror = np.vstack((lb_diff['peak_swe_diff'].to_numpy(), ub_diff['peak_swe_diff'].to_numpy()))\n",
    "\n",
    "# plt.figure(figsize=(8,5))\n",
    "plt.figure(figsize=(16,8))\n",
    "# bars = plt.barh(x, y_dif, height=0.6, left=y_bot)\n",
    "h = [0.7, 0.7, 0.7, 0.7, 0.7, 0.7, 0.7, 0.85, 1]\n",
    "hnew = [i for i in h]\n",
    "bars = plt.barh(x, y_dif, xerr=xerror, height=hnew, left=y_bot, ecolor='k', error_kw=dict(lw=2, capsize=4, capthick=2))\n",
    "# plt.bar_label(bars, labels=lbls)    # label bars\n",
    "plt.title('Mean Peak SWE Error', fontsize=24)\n",
    "plt.xlabel('Peak SWE Difference (%)', fontsize=20)\n",
    "# plt.ylabel('Run')\n",
    "plt.axvline(0, color='k', linestyle='--', linewidth=2.5)\n",
    "plt.axvline(prism_mean_peak_swe_bias, color='grey', alpha=1.0, linestyle='--', linewidth=2.5)\n",
    "for color, bar in zip(['blue','deepskyblue','deepskyblue','palevioletred','skyblue','skyblue','lightsalmon','darkred','blue'], bars.patches):\n",
    "    bar.set_color(color)\n",
    "plt.xlim(-50,50)\n",
    "\n",
    "# Working with axes\n",
    "for d in [\"left\", \"top\", \"right\"]:   # set plot spines to invisible\n",
    "    plt.gca().spines[d].set_visible(False)\n",
    "plt.tick_params(axis='y', left=False)   # remove tick marks, keep tick labels\n",
    "\n",
    "# Text size/fonts\n",
    "# f = [16, 16, 16, 16, 16, 16, 16, 18, 20]\n",
    "# fnew = [i for i in f]\n",
    "plt.xticks(fontsize=18)\n",
    "plt.yticks(fontsize=18)\n",
    "# import pylab as plt\n",
    "# plt.rc('text', usetex=True)\n",
    "# plt.ylabel(r'\\small{Text 1} \\Huge{Text2}')\n",
    "\n",
    "plt.tick_params(axis=\"y\",direction=\"in\", pad=-25)\n",
    "    \n",
    "# plt.savefig('/global/cscratch1/sd/yum/swe/conferences/MtnClim/'+'mean_peak_swe_error', dpi=300)\n",
    "# https://stackoverflow.com/questions/30228069/how-to-display-the-value-of-the-bar-on-each-bar-with-pyplot-barh"
   ]
  },
  {
   "cell_type": "markdown",
   "id": "e435a279-d3cc-4723-a771-50271c5a5b65",
   "metadata": {},
   "source": [
    "### Barplot of Median Peak SWE"
   ]
  },
  {
   "cell_type": "code",
   "execution_count": null,
   "id": "ef0d62bf-ef8f-4ea4-9515-c87e7a9c50e2",
   "metadata": {},
   "outputs": [],
   "source": [
    "pswe_med_diff_list = list(pswe_diff_df.median())"
   ]
  },
  {
   "cell_type": "code",
   "execution_count": null,
   "id": "10e9c05c-ee38-400e-9234-f9448177f907",
   "metadata": {},
   "outputs": [],
   "source": [
    "pswe_med_diff_df = pd.DataFrame(pswe_med_diff_list, \n",
    "                                 index = ['JenningsTh', 'LivnehPT', 'LivnehT', 'LivnehP', 'GridMetPT', 'GridMetT', 'GridMetP', 'PRISM', 'SNOTEL'],\n",
    "                                 columns = ['peak_swe_diff'])"
   ]
  },
  {
   "cell_type": "code",
   "execution_count": null,
   "id": "832a98c8-a060-4caa-a08b-31031fac2ce5",
   "metadata": {},
   "outputs": [],
   "source": [
    "prism_med_peak_swe_bias = pswe_med_diff_df['peak_swe_diff']['PRISM']"
   ]
  },
  {
   "cell_type": "code",
   "execution_count": null,
   "id": "f848c5b6-e726-4251-a01f-09fdc48fe8f2",
   "metadata": {},
   "outputs": [],
   "source": [
    "x = pswe_med_diff_df.index.values\n",
    "y_bot = [prism_med_peak_swe_bias, prism_med_peak_swe_bias, prism_med_peak_swe_bias, prism_med_peak_swe_bias, prism_med_peak_swe_bias, prism_med_peak_swe_bias, prism_med_peak_swe_bias, 0, 0]\n",
    "y_dif = [pswe_med_diff_df['peak_swe_diff'][i] for i in range(7)] + [prism_med_peak_swe_bias,0]\n",
    "\n",
    "lbls = [f'{round(item, 2)}%' for item in y_dif]\n",
    "\n",
    "# creating error\n",
    "lb = pd.DataFrame(data={'peak_swe_diff': pswe_diff_df.quantile(lb_q)})\n",
    "lb_diff = pswe_med_diff_df - lb\n",
    "ub = pd.DataFrame(data={'peak_swe_diff': pswe_diff_df.quantile(ub_q)})\n",
    "ub_diff = ub - pswe_med_diff_df\n",
    "xerror = np.vstack((lb_diff['peak_swe_diff'].to_numpy(), ub_diff['peak_swe_diff'].to_numpy()))\n",
    "\n",
    "plt.figure(figsize=(8,5))\n",
    "bars = plt.barh(x, y_dif, xerr=xerror, height=0.8, left=y_bot, ecolor='k', error_kw=dict(lw=1.25, capsize=2.5, capthick=1.25))\n",
    "# plt.bar_label(bars, fmt='%.2f')\n",
    "plt.bar_label(bars, labels=lbls)\n",
    "plt.title('Median peak SWE error')\n",
    "plt.xlabel('Peak SWE difference (%)')\n",
    "plt.ylabel('Run')\n",
    "plt.axvline(0, color='k', linestyle='--')\n",
    "plt.axvline(prism_med_peak_swe_bias, color='grey', alpha=0.75, linestyle='--')\n",
    "for color, bar in zip(['red','deepskyblue','deepskyblue','palevioletred','skyblue','lightsalmon','lightsalmon','darkred','blue'], bars.patches):\n",
    "    bar.set_color(color)\n",
    "plt.xlim(-75,75)\n",
    "# plt.savefig(save_dir+'median_peak_swe_error', dpi=300)\n",
    "# https://stackoverflow.com/questions/30228069/how-to-display-the-value-of-the-bar-on-each-bar-with-pyplot-barh"
   ]
  },
  {
   "cell_type": "code",
   "execution_count": null,
   "id": "bf9ede0a-7331-4d4e-b1ba-aa1408e7998d",
   "metadata": {},
   "outputs": [],
   "source": [
    "x = pswe_med_diff_df.index.values\n",
    "y_bot = [prism_med_peak_swe_bias, prism_med_peak_swe_bias, prism_med_peak_swe_bias, prism_med_peak_swe_bias, prism_med_peak_swe_bias, prism_med_peak_swe_bias, prism_med_peak_swe_bias, 0, 0]\n",
    "y_dif = [pswe_med_diff_df['peak_swe_diff'][i] for i in range(7)] + [prism_med_peak_swe_bias,0]\n",
    "\n",
    "lbls = [f'{round(item, 2)}%' for item in y_dif]\n",
    "\n",
    "# creating error\n",
    "lb = pd.DataFrame(data={'peak_swe_diff': pswe_diff_df.quantile(lb_q)})\n",
    "lb_diff = pswe_med_diff_df - lb\n",
    "ub = pd.DataFrame(data={'peak_swe_diff': pswe_diff_df.quantile(ub_q)})\n",
    "ub_diff = ub - pswe_med_diff_df\n",
    "xerror = np.vstack((lb_diff['peak_swe_diff'].to_numpy(), ub_diff['peak_swe_diff'].to_numpy()))\n",
    "\n",
    "# plt.figure(figsize=(8,5))\n",
    "plt.figure(figsize=(16,8))\n",
    "# bars = plt.barh(x, y_dif, height=0.6, left=y_bot)\n",
    "h = [0.7, 0.7, 0.7, 0.7, 0.7, 0.7, 0.7, 0.85, 1]\n",
    "hnew = [i for i in h]\n",
    "bars = plt.barh(x, y_dif, xerr=xerror, height=hnew, left=y_bot, ecolor='k', error_kw=dict(lw=2, capsize=4, capthick=2))\n",
    "# plt.bar_label(bars, labels=lbls)    # label bars\n",
    "plt.title('Median Peak SWE Error', fontsize=24)\n",
    "plt.xlabel('Median SWE Difference (%)', fontsize=20)\n",
    "# plt.ylabel('Run')\n",
    "plt.axvline(0, color='k', linestyle='--', linewidth=2.5)\n",
    "plt.axvline(prism_med_peak_swe_bias, color='grey', alpha=1.0, linestyle='--', linewidth=2.5)\n",
    "for color, bar in zip(['blue','deepskyblue','deepskyblue','palevioletred','skyblue','skyblue','lightsalmon','darkred','blue'], bars.patches):\n",
    "    bar.set_color(color)\n",
    "plt.xlim(-50,50)\n",
    "\n",
    "# Working with axes\n",
    "for d in [\"left\", \"top\", \"right\"]:   # set plot spines to invisible\n",
    "    plt.gca().spines[d].set_visible(False)\n",
    "plt.tick_params(axis='y', left=False)   # remove tick marks, keep tick labels\n",
    "\n",
    "# Text size/fonts\n",
    "# f = [16, 16, 16, 16, 16, 16, 16, 18, 20]\n",
    "# fnew = [i for i in f]\n",
    "plt.xticks(fontsize=18)\n",
    "plt.yticks(fontsize=18)\n",
    "# import pylab as plt\n",
    "# plt.rc('text', usetex=True)\n",
    "# plt.ylabel(r'\\small{Text 1} \\Huge{Text2}')\n",
    "\n",
    "plt.tick_params(axis=\"y\",direction=\"in\", pad=-25)\n",
    "    \n",
    "# plt.savefig('/global/cscratch1/sd/yum/swe/conferences/MtnClim/'+'med_peak_swe_error', dpi=300)\n",
    "# https://stackoverflow.com/questions/30228069/how-to-display-the-value-of-the-bar-on-each-bar-with-pyplot-barh"
   ]
  },
  {
   "cell_type": "code",
   "execution_count": null,
   "id": "38d21abb-57a6-43c0-a6d5-0df157fa3246",
   "metadata": {},
   "outputs": [],
   "source": []
  },
  {
   "cell_type": "markdown",
   "id": "8ff56804-8ab6-4aba-9806-60b35e2a559f",
   "metadata": {
    "jp-MarkdownHeadingCollapsed": true,
    "tags": []
   },
   "source": [
    "# Calculate bias of each peak SWE - 08/19/22"
   ]
  },
  {
   "cell_type": "code",
   "execution_count": null,
   "id": "c2dfcf4b-d512-4c8b-b7bf-88276ac49338",
   "metadata": {},
   "outputs": [],
   "source": [
    "# for each experiment:\n",
    "#    for each station:\n",
    "#       get peak SWE (1 april SWE) across years (for each year)\n",
    "#       calculate difference in peak SWE (compared to SNOTEL baseline)\n",
    "# boxplot of peak SWE differences "
   ]
  },
  {
   "cell_type": "markdown",
   "id": "3cb273db-0848-4c88-ba18-89ed003da98d",
   "metadata": {
    "tags": []
   },
   "source": [
    "## Compute peak SWE (for each station and year)"
   ]
  },
  {
   "cell_type": "code",
   "execution_count": null,
   "id": "b22c5a1a-307f-4f4a-b02f-ff6c7dad2ffd",
   "metadata": {},
   "outputs": [],
   "source": [
    "def get_peak_swe(df, column):    # adapted from swe_triange_metrics function in swe_triangle_metrics.ipynb\n",
    "    if column == 'snotel_swe':\n",
    "        swe = df['snotel_swe']\n",
    "    elif column == 'ua_swe':\n",
    "        swe = df['ua_swe']\n",
    "    elif column == 'my_scaled_swe':\n",
    "        swe = df['final_scaled_swe']\n",
    "    elif column == 'my_krig_scaled_swe':\n",
    "        swe = df['krig_scaled_swe']\n",
    "    else:\n",
    "        raise ValueError('Unexpected column.')    \n",
    "    \n",
    "    # SPD (peak swe) date\n",
    "    spd_date = pd.to_datetime(df['datetime'].loc[swe.idxmax()])   #spd_date_yr = pd.to_datetime(df['datetime'].loc[df['final_scaled_swe'].idxmax()])\n",
    "    # SPD SWE depth\n",
    "    spd_depth = swe.loc[swe.idxmax()]   #spd_swe_yr = df['final_scaled_swe'].loc[df['final_scaled_swe'].idxmax()]\n",
    "    \n",
    "    return spd_date, spd_depth"
   ]
  },
  {
   "cell_type": "code",
   "execution_count": null,
   "id": "c3ea9f4c-e9ed-402e-b643-6a3141ce5e69",
   "metadata": {},
   "outputs": [],
   "source": [
    "def peak_swe_arr(df, column, year, date_run, metric_run):    # adapted from metrics_arr function in swe_triangle_metrics.ipynb\n",
    "    yr_df = df[(pd.to_datetime(df['datetime']) > datetime(year,7,31)) & (pd.to_datetime(df['datetime']) < datetime(year+1,8,1))]\n",
    "    # yr_df = df[(pd.to_datetime(df['datetime']) > datetime(year,10,1)) & (pd.to_datetime(df['datetime']) < datetime(year+1,6,30))]\n",
    "    peak_swe_date, peak_swe_depth = get_peak_swe(yr_df, column)\n",
    "    # x_run.extend((0, peak_swe_date))\n",
    "    # y_run.extend((0, peak_swe_depth))\n",
    "    date_run.append(peak_swe_date)\n",
    "    metric_run.append(peak_swe_depth)\n",
    "    return date_run, metric_run"
   ]
  },
  {
   "cell_type": "code",
   "execution_count": null,
   "id": "1fc0b12f-c067-4557-b8e9-065e44c48c8b",
   "metadata": {},
   "outputs": [],
   "source": [
    "# initialize lists\n",
    "site_code = []\n",
    "year = []\n",
    "pswe_date_snotel, pswe_snotel = [], []\n",
    "pswe_date_ua, pswe_ua = [], [] \n",
    "pswe_date_pprism_tprism, pswe_pprism_tprism = [], []\n",
    "pswe_date_pgridmet_tprism, pswe_pgridmet_tprism = [], []\n",
    "pswe_date_pprism_tgridmet, pswe_pprism_tgridmet = [], []\n",
    "pswe_date_pgridmet_tgridmet, pswe_pgridmet_tgridmet = [], []\n",
    "pswe_date_plivneh_tprism, pswe_plivneh_tprism = [], []\n",
    "pswe_date_pprism_tlivneh, pswe_pprism_tlivneh = [], []\n",
    "pswe_date_plivneh_tlivneh, pswe_plivneh_tlivneh = [], []\n",
    "pswe_date_pprism_tprism_thjennings, pswe_pprism_tprism_thjennings = [], []"
   ]
  },
  {
   "cell_type": "code",
   "execution_count": null,
   "id": "f8effbd3-64dd-4bbe-8844-229535bc5c86",
   "metadata": {
    "tags": []
   },
   "outputs": [],
   "source": [
    "for idx, row in gm_snotel_sites.iterrows():\n",
    "    sitecode = row['code']\n",
    "    print(sitecode)\n",
    "    # site_lon, site_lat = row['geometry'].x, row['geometry'].y\n",
    "    \n",
    "    if os.path.exists(f'{pr_prism_temp_prism_dir}{sitecode}_concise.csv') and sitecode != '396_UT_SNTL' and sitecode != '435_UT_SNTL':\n",
    "        # Load data\n",
    "        pr_prism_temp_prism_df = pd.read_csv(f'{pr_prism_temp_prism_dir}{sitecode}_concise.csv', index_col='Unnamed: 0')\n",
    "        pr_gridmet_temp_prism_df = pd.read_csv(f'{pr_gridmet_temp_prism_dir}{sitecode}_concise.csv', index_col='Unnamed: 0')\n",
    "        pr_prism_temp_gridmet_df = pd.read_csv(f'{pr_prism_temp_gridmet_dir}{sitecode}_concise.csv', index_col='Unnamed: 0')\n",
    "        pr_gridmet_temp_gridmet_df = pd.read_csv(f'{pr_gridmet_temp_gridmet_dir}{sitecode}_concise.csv', index_col='Unnamed: 0')\n",
    "        pr_livneh_temp_prism_df = pd.read_csv(f'{pr_livneh_temp_prism_dir}{sitecode}_concise.csv', index_col='Unnamed: 0')\n",
    "        pr_prism_temp_livneh_df = pd.read_csv(f'{pr_prism_temp_livneh_dir}{sitecode}_concise.csv', index_col='Unnamed: 0')\n",
    "        pr_livneh_temp_livneh_df = pd.read_csv(f'{pr_livneh_temp_livneh_dir}{sitecode}_concise.csv', index_col='Unnamed: 0')\n",
    "        pr_prism_temp_prism_th_jennings_df = pd.read_csv(f'{th_jennings_dir}{sitecode}_concise.csv', index_col='Unnamed: 0')\n",
    "        \n",
    "        for yr in np.unique(pd.to_datetime(pr_prism_temp_prism_df['datetime']).dt.year)[:-1]:\n",
    "            # print(yr)\n",
    "            site_code.append(sitecode)\n",
    "            year.append(yr)\n",
    "            pswe_date_snotel, pswe_snotel = peak_swe_arr(pr_prism_temp_prism_df, 'snotel_swe', yr, pswe_date_snotel, pswe_snotel)\n",
    "            pswe_date_ua, pswe_ua = peak_swe_arr(pr_prism_temp_prism_df, 'ua_swe', yr, pswe_date_ua, pswe_ua)\n",
    "            pswe_date_pprism_tprism, pswe_pprism_tprism = peak_swe_arr(pr_prism_temp_prism_df, 'my_scaled_swe', yr, pswe_date_pprism_tprism, pswe_pprism_tprism)\n",
    "            pswe_date_pgridmet_tprism, pswe_pgridmet_tprism = peak_swe_arr(pr_gridmet_temp_prism_df, 'my_scaled_swe', yr, pswe_date_pgridmet_tprism, pswe_pgridmet_tprism)\n",
    "            pswe_date_pprism_tgridmet, pswe_pprism_tgridmet = peak_swe_arr(pr_prism_temp_gridmet_df, 'my_scaled_swe', yr, pswe_date_pprism_tgridmet, pswe_pprism_tgridmet)\n",
    "            pswe_date_pgridmet_tgridmet, pswe_pgridmet_tgridmet = peak_swe_arr(pr_gridmet_temp_gridmet_df, 'my_scaled_swe', yr, pswe_date_pgridmet_tgridmet, pswe_pgridmet_tgridmet)\n",
    "            pswe_date_plivneh_tprism, pswe_plivneh_tprism = peak_swe_arr(pr_livneh_temp_prism_df, 'my_scaled_swe', yr, pswe_date_plivneh_tprism, pswe_plivneh_tprism)\n",
    "            pswe_date_pprism_tlivneh, pswe_pprism_tlivneh = peak_swe_arr(pr_prism_temp_livneh_df, 'my_scaled_swe', yr, pswe_date_pprism_tlivneh, pswe_pprism_tlivneh)\n",
    "            pswe_date_plivneh_tlivneh, pswe_plivneh_tlivneh = peak_swe_arr(pr_livneh_temp_livneh_df, 'my_scaled_swe', yr, pswe_date_plivneh_tlivneh, pswe_plivneh_tlivneh)\n",
    "            pswe_date_pprism_tprism_thjennings, pswe_pprism_tprism_thjennings = peak_swe_arr(pr_prism_temp_prism_th_jennings_df, 'my_scaled_swe', yr, pswe_date_pprism_tprism_thjennings, pswe_pprism_tprism_thjennings)\n",
    "            "
   ]
  },
  {
   "cell_type": "markdown",
   "id": "33963448-fe89-4b89-96ce-7cae724e9a2f",
   "metadata": {
    "tags": []
   },
   "source": [
    "## Compute Biases/Differences"
   ]
  },
  {
   "cell_type": "code",
   "execution_count": null,
   "id": "30722200-9ef1-4a85-adb9-14e9f5d2fedf",
   "metadata": {
    "tags": []
   },
   "outputs": [],
   "source": [
    "# UA difference\n",
    "ua_bias = (np.array(pswe_ua) / np.array(pswe_snotel)) - 1"
   ]
  },
  {
   "cell_type": "markdown",
   "id": "1c3fa9c1-1fe3-4d09-87d5-34c490a57517",
   "metadata": {},
   "source": [
    "### Level 1"
   ]
  },
  {
   "cell_type": "code",
   "execution_count": null,
   "id": "40a1907a-26bc-4b6e-bd43-f7968f6e61e5",
   "metadata": {},
   "outputs": [],
   "source": [
    "snotel_bias = (np.array(pswe_snotel) / np.array(pswe_snotel)) - 1"
   ]
  },
  {
   "cell_type": "markdown",
   "id": "a28d7f6a-7956-49ef-986d-2e369638ef21",
   "metadata": {},
   "source": [
    "### Level 2"
   ]
  },
  {
   "cell_type": "code",
   "execution_count": null,
   "id": "27704b5e-c523-43c9-a60b-7cba4621f1ee",
   "metadata": {},
   "outputs": [],
   "source": [
    "prism_bias = (np.array(pswe_pprism_tprism) / np.array(pswe_snotel)) - 1"
   ]
  },
  {
   "cell_type": "markdown",
   "id": "b2506428-357e-493e-b741-634a0ff79178",
   "metadata": {},
   "source": [
    "### Level 3"
   ]
  },
  {
   "cell_type": "markdown",
   "id": "5f7d1bc0-9069-44ee-b295-b27a0960c93a",
   "metadata": {},
   "source": [
    "#### 3ai"
   ]
  },
  {
   "cell_type": "markdown",
   "id": "9e52cef3-96e9-4db3-88fa-59d793e9b776",
   "metadata": {},
   "source": [
    "##### Gridmet"
   ]
  },
  {
   "cell_type": "code",
   "execution_count": null,
   "id": "43eaccd6-3b8c-466c-bca2-9d3495c6cfd2",
   "metadata": {},
   "outputs": [],
   "source": [
    "# (pswe_pgridmet_tprism_smean / pswe_snotel_smean) - 1"
   ]
  },
  {
   "cell_type": "code",
   "execution_count": null,
   "id": "c50f99cb-fa23-48e0-8af8-31bd2d568fe5",
   "metadata": {},
   "outputs": [],
   "source": [
    "pgridmet_bias = ((np.array(pswe_pgridmet_tprism) / np.array(pswe_pprism_tprism)) - 1)"
   ]
  },
  {
   "cell_type": "markdown",
   "id": "a04a4087-d852-4bc5-8c85-a2cf60c68b6d",
   "metadata": {},
   "source": [
    "##### Livneh"
   ]
  },
  {
   "cell_type": "code",
   "execution_count": null,
   "id": "eaa73911-93c5-4f7f-8a19-dcf574d1dffc",
   "metadata": {},
   "outputs": [],
   "source": [
    "# (pswe_plivneh_tprism_smean / pswe_snotel_smean) - 1"
   ]
  },
  {
   "cell_type": "code",
   "execution_count": null,
   "id": "c3eaf793-edd0-45f8-aada-d54e1cd6c7d2",
   "metadata": {},
   "outputs": [],
   "source": [
    "plivneh_bias = ((np.array(pswe_plivneh_tprism) / np.array(pswe_pprism_tprism)) - 1)"
   ]
  },
  {
   "cell_type": "markdown",
   "id": "913a1866-9495-4c3f-9f77-7a72fbf6cd63",
   "metadata": {},
   "source": [
    "#### 3aii"
   ]
  },
  {
   "cell_type": "markdown",
   "id": "520c910b-4985-4764-808f-37fbb6926e84",
   "metadata": {},
   "source": [
    "##### Gridmet"
   ]
  },
  {
   "cell_type": "code",
   "execution_count": null,
   "id": "9e6b20b1-c95c-49d7-88ce-469634eb6c28",
   "metadata": {},
   "outputs": [],
   "source": [
    "# (pswe_pprism_tgridmet_smean / pswe_snotel_smean) - 1"
   ]
  },
  {
   "cell_type": "code",
   "execution_count": null,
   "id": "ed24158c-4c07-489e-a57d-938d8c27fd8c",
   "metadata": {},
   "outputs": [],
   "source": [
    "tgridmet_bias = ((np.array(pswe_pprism_tgridmet) / np.array(pswe_pprism_tprism)) - 1)"
   ]
  },
  {
   "cell_type": "markdown",
   "id": "55dafb14-ddfb-4e54-8475-4a72b5021cc7",
   "metadata": {},
   "source": [
    "##### Livneh"
   ]
  },
  {
   "cell_type": "code",
   "execution_count": null,
   "id": "08161fb9-e9c3-416a-b5cd-a57f7d6bc427",
   "metadata": {},
   "outputs": [],
   "source": [
    "# (pswe_pprism_tlivneh_smean / pswe_snotel_smean) - 1"
   ]
  },
  {
   "cell_type": "code",
   "execution_count": null,
   "id": "5f80305c-bd04-48bd-9018-58790fd4d28a",
   "metadata": {},
   "outputs": [],
   "source": [
    "tlivneh_bias = ((np.array(pswe_pprism_tlivneh) / np.array(pswe_pprism_tprism)) - 1)"
   ]
  },
  {
   "cell_type": "markdown",
   "id": "8152b5c4-a222-4013-9b47-db3dc6ad7afe",
   "metadata": {},
   "source": [
    "#### 3aiii"
   ]
  },
  {
   "cell_type": "markdown",
   "id": "8cff54c8-0559-4704-81f1-18a5385bc535",
   "metadata": {},
   "source": [
    "##### Gridmet"
   ]
  },
  {
   "cell_type": "code",
   "execution_count": null,
   "id": "95123f2a-1502-4c0b-a933-1179e32c2c3f",
   "metadata": {},
   "outputs": [],
   "source": [
    "# (pswe_pgridmet_tgridmet_smean / pswe_snotel_smean) - 1"
   ]
  },
  {
   "cell_type": "code",
   "execution_count": null,
   "id": "31c645c7-aad4-4ca3-bdc1-adabadf6b4b7",
   "metadata": {},
   "outputs": [],
   "source": [
    "ptgridmet_bias = ((np.array(pswe_pgridmet_tgridmet) / np.array(pswe_pprism_tprism)) - 1)"
   ]
  },
  {
   "cell_type": "markdown",
   "id": "3ebf890a-6061-46ab-a46f-e1f471ef8487",
   "metadata": {},
   "source": [
    "##### Livneh"
   ]
  },
  {
   "cell_type": "code",
   "execution_count": null,
   "id": "c590b84a-9fa1-45a4-aeed-1ccfe0ff0673",
   "metadata": {},
   "outputs": [],
   "source": [
    "# (pswe_plivneh_tlivneh_smean / pswe_snotel_smean) - 1"
   ]
  },
  {
   "cell_type": "code",
   "execution_count": null,
   "id": "38601a8f-cff8-4689-b2d4-4c95d4dd7e9b",
   "metadata": {},
   "outputs": [],
   "source": [
    "ptlivneh_bias = ((np.array(pswe_plivneh_tlivneh) / np.array(pswe_pprism_tprism)) - 1)"
   ]
  },
  {
   "cell_type": "markdown",
   "id": "0b29f441-24f4-411d-aad9-6172cf04bb92",
   "metadata": {},
   "source": [
    "#### 3b"
   ]
  },
  {
   "cell_type": "code",
   "execution_count": null,
   "id": "d805927e-5e1a-416f-8a38-2310dc68c97d",
   "metadata": {},
   "outputs": [],
   "source": [
    "# (pswe_pprism_tprism_thjennings_smean / pswe_snotel_smean) - 1"
   ]
  },
  {
   "cell_type": "code",
   "execution_count": null,
   "id": "72fb9536-d2f4-4ded-9567-02f9f3f8f227",
   "metadata": {},
   "outputs": [],
   "source": [
    "thjennings_bias = ((np.array(pswe_pprism_tprism_thjennings) / np.array(pswe_pprism_tprism)) - 1)"
   ]
  },
  {
   "cell_type": "code",
   "execution_count": null,
   "id": "8149adb0-6a62-46c8-b1b7-8aef29e7d7c7",
   "metadata": {},
   "outputs": [],
   "source": []
  },
  {
   "cell_type": "markdown",
   "id": "641147f2-475b-4b1e-aa76-2acb66cb5645",
   "metadata": {
    "tags": []
   },
   "source": [
    "## Plots"
   ]
  },
  {
   "cell_type": "code",
   "execution_count": null,
   "id": "8f5ca223-6c49-40cd-b999-fd6cedcc844e",
   "metadata": {},
   "outputs": [],
   "source": [
    "pswe_diff_df = pd.DataFrame(list(zip(snotel_bias, prism_bias, pgridmet_bias, tgridmet_bias, ptgridmet_bias, plivneh_bias, tlivneh_bias, ptlivneh_bias, thjennings_bias)), \n",
    "                                 columns = ['SNOTEL', 'PRISM', 'GridMetP', 'GridMetT', 'GridMetPT', 'LivnehP', 'LivnehT', 'LivnehPT', 'JenningsTh'])"
   ]
  },
  {
   "cell_type": "code",
   "execution_count": null,
   "id": "59fb383f-88ac-4323-afd7-faa5652e51bf",
   "metadata": {},
   "outputs": [],
   "source": [
    "# convert to %\n",
    "pswe_diff_df = pswe_diff_df*100"
   ]
  },
  {
   "cell_type": "code",
   "execution_count": null,
   "id": "79bcf386-4e5f-471c-a952-c582d43df9e2",
   "metadata": {},
   "outputs": [],
   "source": [
    "# flip order of runs (i.e. columns)\n",
    "pswe_diff_df = pswe_diff_df.iloc[:, ::-1]"
   ]
  },
  {
   "cell_type": "markdown",
   "id": "f8b82630-8f29-40c4-975c-d52b4f6d9c98",
   "metadata": {
    "jp-MarkdownHeadingCollapsed": true,
    "tags": []
   },
   "source": [
    "### Boxplot of all peak SWE differences"
   ]
  },
  {
   "cell_type": "code",
   "execution_count": null,
   "id": "16cf9759-dc04-4d00-afee-ccc25fdd7964",
   "metadata": {},
   "outputs": [],
   "source": [
    "# colors = ['w', 'w', 'c', 'y', 'm', 'c', 'y', 'm']\n",
    "colors = ['b', 'm', 'y', 'c', 'm', 'y', 'c', 'w', 'w']\n",
    "\n",
    "fig,ax = plt.subplots(figsize=(10,6)) \n",
    "plt.axvline(0, color='black')\n",
    "ax,props = pswe_diff_df.plot.box(patch_artist=True, return_type='both', ax=ax, vert=False)\n",
    "for patch,color in zip(props['boxes'],colors):\n",
    "    patch.set_facecolor(color)\n",
    "plt.grid()\n",
    "plt.xlim(-100,100)\n",
    "plt.xlabel('Peak SWE difference (%)')\n",
    "plt.ylabel('Run')\n",
    "plt.title('Peak SWE Bias')\n",
    "# plt.savefig(save_dir+'boxplot_peak_swe_bias', dpi=300)\n",
    "# plt.show()"
   ]
  },
  {
   "cell_type": "markdown",
   "id": "8a227729-1aa6-4301-9b0f-fbcd6694d96f",
   "metadata": {},
   "source": [
    "### Barplot of Mean Peak SWE"
   ]
  },
  {
   "cell_type": "code",
   "execution_count": null,
   "id": "29eaf333-e1b8-48e5-b899-2bec44dd49ae",
   "metadata": {},
   "outputs": [],
   "source": [
    "pswe_mean_diff_list = list(pswe_diff_df.mean())"
   ]
  },
  {
   "cell_type": "code",
   "execution_count": null,
   "id": "4fb73b95-d1f2-4e2c-8882-cc8e4e35b688",
   "metadata": {},
   "outputs": [],
   "source": [
    "pswe_mean_diff_df = pd.DataFrame(pswe_mean_diff_list, \n",
    "                                 index = ['JenningsTh', 'LivnehPT', 'LivnehT', 'LivnehP', 'GridMetPT', 'GridMetT', 'GridMetP', 'PRISM', 'SNOTEL'],\n",
    "                                 columns = ['peak_swe_diff'])"
   ]
  },
  {
   "cell_type": "code",
   "execution_count": null,
   "id": "b9be720b-6a76-457c-a346-a8a1838f7d68",
   "metadata": {
    "tags": []
   },
   "outputs": [],
   "source": [
    "import numpy as np\n",
    "import matplotlib.pyplot as plt\n",
    "\n",
    "x = np.arange(10)\n",
    "y_bot = np.linspace(30, 50, 10)\n",
    "y_dif = np.linspace(10, 5, 10)\n",
    "\n",
    "plt.barh(x, y_dif, left=y_bot)"
   ]
  },
  {
   "cell_type": "code",
   "execution_count": null,
   "id": "686b124e-c8c4-4c10-ab1b-6335218a495e",
   "metadata": {},
   "outputs": [],
   "source": [
    "prism_mean_peak_swe_bias = pswe_mean_diff_df['peak_swe_diff']['PRISM']"
   ]
  },
  {
   "cell_type": "code",
   "execution_count": null,
   "id": "3831f49e-998e-4bb3-bbef-a4612ea9625f",
   "metadata": {},
   "outputs": [],
   "source": [
    "prism_mean_peak_swe_bias"
   ]
  },
  {
   "cell_type": "code",
   "execution_count": null,
   "id": "06f9448c-fa7d-4520-86b1-cef544eb6104",
   "metadata": {},
   "outputs": [],
   "source": [
    "x = pswe_mean_diff_df.index.values\n",
    "y_bot = [prism_mean_peak_swe_bias, prism_mean_peak_swe_bias, prism_mean_peak_swe_bias, prism_mean_peak_swe_bias, prism_mean_peak_swe_bias, prism_mean_peak_swe_bias, prism_mean_peak_swe_bias, 0, 0]\n",
    "y_dif = [pswe_mean_diff_df['peak_swe_diff'][i] for i in range(7)] + [prism_mean_peak_swe_bias,0]   \n",
    "\n",
    "lbls = [f'{round(item, 2)}%' for item in y_dif]\n",
    "\n",
    "plt.figure(figsize=(8,5))\n",
    "bars = plt.barh(x, width=y_dif, height=0.6, left=y_bot)\n",
    "# plt.bar_label(bars, fmt='%.2f')\n",
    "plt.bar_label(bars, labels=lbls)\n",
    "plt.title('Peak SWE error')\n",
    "plt.xlabel('Peak SWE difference (%)')\n",
    "plt.ylabel('Run')\n",
    "plt.axvline(0, color='k', linestyle='--')\n",
    "plt.axvline(prism_mean_peak_swe_bias, color='grey', alpha=0.75, linestyle='--')\n",
    "for color, bar in zip(['red','deepskyblue','deepskyblue','palevioletred','skyblue','lightsalmon','lightsalmon','darkred','blue'], bars.patches):\n",
    "    bar.set_color(color)\n",
    "plt.xlim(-100,100)\n",
    "# https://stackoverflow.com/questions/30228069/how-to-display-the-value-of-the-bar-on-each-bar-with-pyplot-barh"
   ]
  },
  {
   "cell_type": "markdown",
   "id": "7daf4817-00c1-4892-8ad1-499ac0c741e0",
   "metadata": {},
   "source": [
    "### Barplot of Median Peak SWE"
   ]
  },
  {
   "cell_type": "code",
   "execution_count": null,
   "id": "908acb82-825e-4f61-a672-69b2ff03eabd",
   "metadata": {},
   "outputs": [],
   "source": [
    "pswe_med_diff_list = list(pswe_diff_df.median())"
   ]
  },
  {
   "cell_type": "code",
   "execution_count": null,
   "id": "eae8a7ff-7d62-410b-b6d9-09c4adcc3d8a",
   "metadata": {},
   "outputs": [],
   "source": [
    "pswe_med_diff_df = pd.DataFrame(pswe_med_diff_list, \n",
    "                                 index = ['JenningsTh', 'LivnehPT', 'LivnehT', 'LivnehP', 'GridMetPT', 'GridMetT', 'GridMetP', 'PRISM', 'SNOTEL'],\n",
    "                                 columns = ['peak_swe_diff'])"
   ]
  },
  {
   "cell_type": "code",
   "execution_count": null,
   "id": "78492554-1ba4-469b-9f6b-9d0dedaf68a1",
   "metadata": {},
   "outputs": [],
   "source": [
    "prism_med_peak_swe_bias = pswe_med_diff_df['peak_swe_diff']['PRISM']"
   ]
  },
  {
   "cell_type": "code",
   "execution_count": null,
   "id": "afc90dcb-e37a-422a-8aba-bc29d5cb5edd",
   "metadata": {},
   "outputs": [],
   "source": [
    "x = pswe_med_diff_df.index.values\n",
    "y_bot = [prism_med_peak_swe_bias, prism_med_peak_swe_bias, prism_med_peak_swe_bias, prism_med_peak_swe_bias, prism_med_peak_swe_bias, prism_med_peak_swe_bias, prism_med_peak_swe_bias, 0, 0]\n",
    "y_dif = [pswe_med_diff_df['peak_swe_diff'][i] for i in range(7)] + [prism_med_peak_swe_bias,0]\n",
    "\n",
    "lbls = [f'{round(item, 2)}%' for item in y_dif]\n",
    "\n",
    "plt.figure(figsize=(8,5))\n",
    "bars = plt.barh(x, y_dif, height=0.6, left=y_bot)\n",
    "# plt.bar_label(bars, fmt='%.2f')\n",
    "plt.bar_label(bars, labels=lbls)\n",
    "plt.title('Peak SWE error')\n",
    "plt.xlabel('Peak SWE difference (%)')\n",
    "plt.ylabel('Run')\n",
    "plt.axvline(0, color='k', linestyle='--')\n",
    "plt.axvline(prism_med_peak_swe_bias, color='grey', alpha=0.75, linestyle='--')\n",
    "for color, bar in zip(['red','deepskyblue','deepskyblue','palevioletred','skyblue','lightsalmon','lightsalmon','darkred','blue'], bars.patches):\n",
    "    bar.set_color(color)\n",
    "plt.xlim(-100,100)\n",
    "# https://stackoverflow.com/questions/30228069/how-to-display-the-value-of-the-bar-on-each-bar-with-pyplot-barh"
   ]
  },
  {
   "cell_type": "code",
   "execution_count": null,
   "id": "aa047cb5-8871-45cb-9903-166b6ff8074a",
   "metadata": {},
   "outputs": [],
   "source": []
  },
  {
   "cell_type": "markdown",
   "id": "4ed9d5c8-56d5-43a2-9dd0-92b26d2f0b29",
   "metadata": {
    "jp-MarkdownHeadingCollapsed": true,
    "tags": []
   },
   "source": [
    "# Calculate bias of each peak SWE and then average biases - 07/29/22 Brainstorm #2"
   ]
  },
  {
   "cell_type": "code",
   "execution_count": null,
   "id": "ca658a76-efb1-4967-a7e1-4001ffe4a68c",
   "metadata": {},
   "outputs": [],
   "source": [
    "# for each experiment:\n",
    "#    for each station:\n",
    "#       get peak SWE (1 april SWE) across years (for each year)\n",
    "#       calculate difference in peak SWE (compared to SNOTEL baseline)\n",
    "# boxplot of peak SWE differences "
   ]
  },
  {
   "cell_type": "markdown",
   "id": "43e96afb-aa83-4a74-ab88-da35144f71b9",
   "metadata": {
    "tags": []
   },
   "source": [
    "## Compute peak SWE (for each station and year)"
   ]
  },
  {
   "cell_type": "code",
   "execution_count": null,
   "id": "cc5bbb31-7445-4d02-aeae-413fb7118b73",
   "metadata": {},
   "outputs": [],
   "source": [
    "def get_peak_swe(df, column):    # adapted from swe_triange_metrics function in swe_triangle_metrics.ipynb\n",
    "    if column == 'snotel_swe':\n",
    "        swe = df['snotel_swe']\n",
    "    elif column == 'ua_swe':\n",
    "        swe = df['ua_swe']\n",
    "    elif column == 'my_scaled_swe':\n",
    "        swe = df['final_scaled_swe']\n",
    "    elif column == 'my_krig_scaled_swe':\n",
    "        swe = df['krig_scaled_swe']\n",
    "    else:\n",
    "        raise ValueError('Unexpected column.')    \n",
    "    \n",
    "    # SPD (peak swe) date\n",
    "    spd_date = pd.to_datetime(df['datetime'].loc[swe.idxmax()])   #spd_date_yr = pd.to_datetime(df['datetime'].loc[df['final_scaled_swe'].idxmax()])\n",
    "    # SPD SWE depth\n",
    "    spd_depth = swe.loc[swe.idxmax()]   #spd_swe_yr = df['final_scaled_swe'].loc[df['final_scaled_swe'].idxmax()]\n",
    "    \n",
    "    return spd_date, spd_depth"
   ]
  },
  {
   "cell_type": "code",
   "execution_count": null,
   "id": "0c2bffb8-60d5-4341-963a-ae990d5f783c",
   "metadata": {},
   "outputs": [],
   "source": [
    "def peak_swe_arr(df, column, year, date_run, metric_run):    # adapted from metrics_arr function in swe_triangle_metrics.ipynb\n",
    "    yr_df = df[(pd.to_datetime(df['datetime']) > datetime(year,7,31)) & (pd.to_datetime(df['datetime']) < datetime(year+1,8,1))]\n",
    "    # yr_df = df[(pd.to_datetime(df['datetime']) > datetime(year,10,1)) & (pd.to_datetime(df['datetime']) < datetime(year+1,6,30))]\n",
    "    peak_swe_date, peak_swe_depth = get_peak_swe(yr_df, column)\n",
    "    # x_run.extend((0, peak_swe_date))\n",
    "    # y_run.extend((0, peak_swe_depth))\n",
    "    date_run.append(peak_swe_date)\n",
    "    metric_run.append(peak_swe_depth)\n",
    "    return date_run, metric_run"
   ]
  },
  {
   "cell_type": "code",
   "execution_count": null,
   "id": "f5192c74-b520-4c73-a358-1df7402eb32e",
   "metadata": {},
   "outputs": [],
   "source": [
    "# initialize lists\n",
    "site_code = []\n",
    "year = []\n",
    "pswe_date_snotel, pswe_snotel = [], []\n",
    "pswe_date_ua, pswe_ua = [], [] \n",
    "pswe_date_pprism_tprism, pswe_pprism_tprism = [], []\n",
    "pswe_date_pgridmet_tprism, pswe_pgridmet_tprism = [], []\n",
    "pswe_date_pprism_tgridmet, pswe_pprism_tgridmet = [], []\n",
    "pswe_date_pgridmet_tgridmet, pswe_pgridmet_tgridmet = [], []\n",
    "pswe_date_plivneh_tprism, pswe_plivneh_tprism = [], []\n",
    "pswe_date_pprism_tlivneh, pswe_pprism_tlivneh = [], []\n",
    "pswe_date_plivneh_tlivneh, pswe_plivneh_tlivneh = [], []\n",
    "pswe_date_pprism_tprism_thjennings, pswe_pprism_tprism_thjennings = [], []"
   ]
  },
  {
   "cell_type": "code",
   "execution_count": null,
   "id": "16e97d88-0d2b-44fb-ba33-0412a86b825d",
   "metadata": {
    "tags": []
   },
   "outputs": [],
   "source": [
    "for idx, row in gm_snotel_sites.iterrows():\n",
    "    sitecode = row['code']\n",
    "    print(sitecode)\n",
    "    # site_lon, site_lat = row['geometry'].x, row['geometry'].y\n",
    "    \n",
    "    if os.path.exists(f'{pr_prism_temp_prism_dir}{sitecode}_concise.csv') and sitecode != '396_UT_SNTL' and sitecode != '435_UT_SNTL':\n",
    "        # Load data\n",
    "        pr_prism_temp_prism_df = pd.read_csv(f'{pr_prism_temp_prism_dir}{sitecode}_concise.csv', index_col='Unnamed: 0')\n",
    "        pr_gridmet_temp_prism_df = pd.read_csv(f'{pr_gridmet_temp_prism_dir}{sitecode}_concise.csv', index_col='Unnamed: 0')\n",
    "        pr_prism_temp_gridmet_df = pd.read_csv(f'{pr_prism_temp_gridmet_dir}{sitecode}_concise.csv', index_col='Unnamed: 0')\n",
    "        pr_gridmet_temp_gridmet_df = pd.read_csv(f'{pr_gridmet_temp_gridmet_dir}{sitecode}_concise.csv', index_col='Unnamed: 0')\n",
    "        pr_livneh_temp_prism_df = pd.read_csv(f'{pr_livneh_temp_prism_dir}{sitecode}_concise.csv', index_col='Unnamed: 0')\n",
    "        pr_prism_temp_livneh_df = pd.read_csv(f'{pr_prism_temp_livneh_dir}{sitecode}_concise.csv', index_col='Unnamed: 0')\n",
    "        pr_livneh_temp_livneh_df = pd.read_csv(f'{pr_livneh_temp_livneh_dir}{sitecode}_concise.csv', index_col='Unnamed: 0')\n",
    "        pr_prism_temp_prism_th_jennings_df = pd.read_csv(f'{th_jennings_dir}{sitecode}_concise.csv', index_col='Unnamed: 0')\n",
    "        \n",
    "        for yr in np.unique(pd.to_datetime(pr_prism_temp_prism_df['datetime']).dt.year)[:-1]:\n",
    "            # print(yr)\n",
    "            site_code.append(sitecode)\n",
    "            year.append(yr)\n",
    "            pswe_date_snotel, pswe_snotel = peak_swe_arr(pr_prism_temp_prism_df, 'snotel_swe', yr, pswe_date_snotel, pswe_snotel)\n",
    "            pswe_date_ua, pswe_ua = peak_swe_arr(pr_prism_temp_prism_df, 'ua_swe', yr, pswe_date_ua, pswe_ua)\n",
    "            pswe_date_pprism_tprism, pswe_pprism_tprism = peak_swe_arr(pr_prism_temp_prism_df, 'my_scaled_swe', yr, pswe_date_pprism_tprism, pswe_pprism_tprism)\n",
    "            pswe_date_pgridmet_tprism, pswe_pgridmet_tprism = peak_swe_arr(pr_gridmet_temp_prism_df, 'my_scaled_swe', yr, pswe_date_pgridmet_tprism, pswe_pgridmet_tprism)\n",
    "            pswe_date_pprism_tgridmet, pswe_pprism_tgridmet = peak_swe_arr(pr_prism_temp_gridmet_df, 'my_scaled_swe', yr, pswe_date_pprism_tgridmet, pswe_pprism_tgridmet)\n",
    "            pswe_date_pgridmet_tgridmet, pswe_pgridmet_tgridmet = peak_swe_arr(pr_gridmet_temp_gridmet_df, 'my_scaled_swe', yr, pswe_date_pgridmet_tgridmet, pswe_pgridmet_tgridmet)\n",
    "            pswe_date_plivneh_tprism, pswe_plivneh_tprism = peak_swe_arr(pr_livneh_temp_prism_df, 'my_scaled_swe', yr, pswe_date_plivneh_tprism, pswe_plivneh_tprism)\n",
    "            pswe_date_pprism_tlivneh, pswe_pprism_tlivneh = peak_swe_arr(pr_prism_temp_livneh_df, 'my_scaled_swe', yr, pswe_date_pprism_tlivneh, pswe_pprism_tlivneh)\n",
    "            pswe_date_plivneh_tlivneh, pswe_plivneh_tlivneh = peak_swe_arr(pr_livneh_temp_livneh_df, 'my_scaled_swe', yr, pswe_date_plivneh_tlivneh, pswe_plivneh_tlivneh)\n",
    "            pswe_date_pprism_tprism_thjennings, pswe_pprism_tprism_thjennings = peak_swe_arr(pr_prism_temp_prism_th_jennings_df, 'my_scaled_swe', yr, pswe_date_pprism_tprism_thjennings, pswe_pprism_tprism_thjennings)\n",
    "            "
   ]
  },
  {
   "cell_type": "markdown",
   "id": "10ce7361-ee71-48d7-98ed-07837f269a7a",
   "metadata": {
    "tags": []
   },
   "source": [
    "## Compute Biases/Differences"
   ]
  },
  {
   "cell_type": "code",
   "execution_count": null,
   "id": "c414c048-605a-42ae-b8c1-8e131dd2999d",
   "metadata": {
    "tags": []
   },
   "outputs": [],
   "source": [
    "# UA difference\n",
    "ua_bias = (np.array(pswe_ua) / np.array(pswe_snotel)) - 1"
   ]
  },
  {
   "cell_type": "markdown",
   "id": "e1b090b0-8849-4450-9fa2-2675df47ac63",
   "metadata": {},
   "source": [
    "### Level 1"
   ]
  },
  {
   "cell_type": "code",
   "execution_count": null,
   "id": "4f546b86-3eec-4c92-878d-153c771efa5b",
   "metadata": {},
   "outputs": [],
   "source": [
    "snotel_bias = (np.array(pswe_snotel) / np.array(pswe_snotel)) - 1"
   ]
  },
  {
   "cell_type": "markdown",
   "id": "d4e18e3a-b894-4439-95f0-e030b938a2f9",
   "metadata": {},
   "source": [
    "### Level 2"
   ]
  },
  {
   "cell_type": "code",
   "execution_count": null,
   "id": "6a85f8f0-8e38-4678-97d1-9a79838baceb",
   "metadata": {},
   "outputs": [],
   "source": [
    "prism_bias = (np.array(pswe_pprism_tprism) / np.array(pswe_snotel)) - 1"
   ]
  },
  {
   "cell_type": "markdown",
   "id": "a5770dcd-ef42-461e-862b-ee62e5493cbf",
   "metadata": {},
   "source": [
    "### Level 3"
   ]
  },
  {
   "cell_type": "markdown",
   "id": "5c605ee0-eac6-4e05-8dbf-5cd13a1e2c1c",
   "metadata": {},
   "source": [
    "#### 3ai"
   ]
  },
  {
   "cell_type": "markdown",
   "id": "58083c0f-4e01-4317-b866-7e385a6de7f6",
   "metadata": {},
   "source": [
    "##### Gridmet"
   ]
  },
  {
   "cell_type": "code",
   "execution_count": null,
   "id": "70299e0a-23f7-45c1-8889-a90d82bb0a27",
   "metadata": {},
   "outputs": [],
   "source": [
    "# (pswe_pgridmet_tprism_smean / pswe_snotel_smean) - 1"
   ]
  },
  {
   "cell_type": "code",
   "execution_count": null,
   "id": "54df664a-0279-4f8a-b0ae-894c0a39801c",
   "metadata": {},
   "outputs": [],
   "source": [
    "pgridmet_bias = ((np.array(pswe_pgridmet_tprism) / np.array(pswe_pprism_tprism)) - 1) + ((np.array(pswe_pprism_tprism) / np.array(pswe_snotel)) - 1)"
   ]
  },
  {
   "cell_type": "markdown",
   "id": "d29af066-bffb-4696-9c0d-0c6f055558c7",
   "metadata": {},
   "source": [
    "##### Livneh"
   ]
  },
  {
   "cell_type": "code",
   "execution_count": null,
   "id": "76dff3f5-da0a-411e-913a-6d5ca35e6c28",
   "metadata": {},
   "outputs": [],
   "source": [
    "# (pswe_plivneh_tprism_smean / pswe_snotel_smean) - 1"
   ]
  },
  {
   "cell_type": "code",
   "execution_count": null,
   "id": "eb82eb6e-6675-4a9a-89b2-33307901f3d0",
   "metadata": {},
   "outputs": [],
   "source": [
    "plivneh_bias = ((np.array(pswe_plivneh_tprism) / np.array(pswe_pprism_tprism)) - 1) + ((np.array(pswe_pprism_tprism) / np.array(pswe_snotel)) - 1)"
   ]
  },
  {
   "cell_type": "markdown",
   "id": "263de362-6355-4168-bf3d-e2fd8174e7fc",
   "metadata": {},
   "source": [
    "#### 3aii"
   ]
  },
  {
   "cell_type": "markdown",
   "id": "93028d8b-31b9-4d21-a625-fd809ea12783",
   "metadata": {},
   "source": [
    "##### Gridmet"
   ]
  },
  {
   "cell_type": "code",
   "execution_count": null,
   "id": "1f246dff-270c-409a-ae62-e117145790a4",
   "metadata": {},
   "outputs": [],
   "source": [
    "# (pswe_pprism_tgridmet_smean / pswe_snotel_smean) - 1"
   ]
  },
  {
   "cell_type": "code",
   "execution_count": null,
   "id": "ce926453-bde9-4871-8e59-6382643b9c9b",
   "metadata": {},
   "outputs": [],
   "source": [
    "tgridmet_bias = ((np.array(pswe_pprism_tgridmet) / np.array(pswe_pprism_tprism)) - 1) + ((np.array(pswe_pprism_tprism) / np.array(pswe_snotel)) - 1)"
   ]
  },
  {
   "cell_type": "markdown",
   "id": "9d51ce33-3144-4ff4-ab55-9029c3a6166a",
   "metadata": {},
   "source": [
    "##### Livneh"
   ]
  },
  {
   "cell_type": "code",
   "execution_count": null,
   "id": "5df12ff0-3cbd-4184-8a7f-0081fbffa4ba",
   "metadata": {},
   "outputs": [],
   "source": [
    "# (pswe_pprism_tlivneh_smean / pswe_snotel_smean) - 1"
   ]
  },
  {
   "cell_type": "code",
   "execution_count": null,
   "id": "5fcf12b1-9bae-42d4-996a-2324bf16f285",
   "metadata": {},
   "outputs": [],
   "source": [
    "tlivneh_bias = ((np.array(pswe_pprism_tlivneh) / np.array(pswe_pprism_tprism)) - 1) + ((np.array(pswe_pprism_tprism) / np.array(pswe_snotel)) - 1)"
   ]
  },
  {
   "cell_type": "markdown",
   "id": "be325b55-7388-4ec6-b0c9-c7e0862214d0",
   "metadata": {},
   "source": [
    "#### 3aiii"
   ]
  },
  {
   "cell_type": "markdown",
   "id": "d2560f3d-8834-480e-8d1b-d3d8e63eb368",
   "metadata": {},
   "source": [
    "##### Gridmet"
   ]
  },
  {
   "cell_type": "code",
   "execution_count": null,
   "id": "a6402079-78c6-4dd7-97f5-03f5a154b585",
   "metadata": {},
   "outputs": [],
   "source": [
    "# (pswe_pgridmet_tgridmet_smean / pswe_snotel_smean) - 1"
   ]
  },
  {
   "cell_type": "code",
   "execution_count": null,
   "id": "aed6cf02-520b-41c4-a446-c56fc08b02c9",
   "metadata": {},
   "outputs": [],
   "source": [
    "ptgridmet_bias = ((np.array(pswe_pgridmet_tgridmet) / np.array(pswe_pprism_tprism)) - 1) + ((np.array(pswe_pprism_tprism) / np.array(pswe_snotel)) - 1)"
   ]
  },
  {
   "cell_type": "markdown",
   "id": "8d23d3dd-6136-4a85-bd61-929816d66836",
   "metadata": {},
   "source": [
    "##### Livneh"
   ]
  },
  {
   "cell_type": "code",
   "execution_count": null,
   "id": "ca70b462-ec92-4649-8534-be7eefe68600",
   "metadata": {},
   "outputs": [],
   "source": [
    "# (pswe_plivneh_tlivneh_smean / pswe_snotel_smean) - 1"
   ]
  },
  {
   "cell_type": "code",
   "execution_count": null,
   "id": "3c5ddf11-12a0-4ea3-967c-fcf83dedbf3c",
   "metadata": {},
   "outputs": [],
   "source": [
    "ptlivneh_bias = ((np.array(pswe_plivneh_tlivneh) / np.array(pswe_pprism_tprism)) - 1) + ((np.array(pswe_pprism_tprism) / np.array(pswe_snotel)) - 1)"
   ]
  },
  {
   "cell_type": "markdown",
   "id": "3838545d-6402-4393-9ce2-648680551207",
   "metadata": {},
   "source": [
    "#### 3b"
   ]
  },
  {
   "cell_type": "code",
   "execution_count": null,
   "id": "82a612f3-a005-4f6d-a27a-b35f6282892a",
   "metadata": {},
   "outputs": [],
   "source": [
    "# (pswe_pprism_tprism_thjennings_smean / pswe_snotel_smean) - 1"
   ]
  },
  {
   "cell_type": "code",
   "execution_count": null,
   "id": "b36a898a-3f38-4440-9152-1a1f9860565b",
   "metadata": {},
   "outputs": [],
   "source": [
    "thjennings_bias = ((np.array(pswe_pprism_tprism_thjennings) / np.array(pswe_pprism_tprism)) - 1) + ((np.array(pswe_pprism_tprism) / np.array(pswe_snotel)) - 1)"
   ]
  },
  {
   "cell_type": "code",
   "execution_count": null,
   "id": "22ad48aa-718c-4490-a7f1-856eb1d9b400",
   "metadata": {},
   "outputs": [],
   "source": []
  },
  {
   "cell_type": "markdown",
   "id": "9bd062b1-b5f9-4dc8-bf44-6b869bf74d61",
   "metadata": {
    "tags": []
   },
   "source": [
    "## Plots"
   ]
  },
  {
   "cell_type": "markdown",
   "id": "d7374adf-de42-4a7d-94b4-8a199ba8a1cf",
   "metadata": {},
   "source": [
    "### Boxplot of all peak SWE differences"
   ]
  },
  {
   "cell_type": "code",
   "execution_count": null,
   "id": "71101ceb-2b9e-4ec2-a946-252ab03bf37c",
   "metadata": {},
   "outputs": [],
   "source": [
    "pswe_diff_df = pd.DataFrame(list(zip(snotel_bias, prism_bias, pgridmet_bias, tgridmet_bias, ptgridmet_bias, plivneh_bias, tlivneh_bias, ptlivneh_bias, thjennings_bias)), \n",
    "                                 columns = ['SNOTEL', 'PRISM', 'GridMetP', 'GridMetT', 'GridMetPT', 'LivnehP', 'LivnehT', 'LivnehPT', 'JenningsTh'])"
   ]
  },
  {
   "cell_type": "code",
   "execution_count": null,
   "id": "b597ba53-4957-461d-9f52-cba62eff2a3d",
   "metadata": {},
   "outputs": [],
   "source": [
    "# convert to %\n",
    "pswe_diff_df = pswe_diff_df*100"
   ]
  },
  {
   "cell_type": "code",
   "execution_count": null,
   "id": "792b8787-ce74-4703-8563-b8262a957abf",
   "metadata": {},
   "outputs": [],
   "source": [
    "# flip order of runs (i.e. columns)\n",
    "pswe_diff_df = pswe_diff_df.iloc[:, ::-1]"
   ]
  },
  {
   "cell_type": "code",
   "execution_count": null,
   "id": "a10bf42f-568e-4118-ab8a-1825de9aaf2d",
   "metadata": {},
   "outputs": [],
   "source": [
    "# colors = ['w', 'w', 'c', 'y', 'm', 'c', 'y', 'm']\n",
    "colors = ['b', 'm', 'y', 'c', 'm', 'y', 'c', 'w', 'w']\n",
    "\n",
    "fig,ax = plt.subplots(figsize=(10,6)) \n",
    "plt.axvline(0, color='black')\n",
    "ax,props = pswe_diff_df.plot.box(patch_artist=True, return_type='both', ax=ax, vert=False)\n",
    "for patch,color in zip(props['boxes'],colors):\n",
    "    patch.set_facecolor(color)\n",
    "plt.grid()\n",
    "plt.xlim(-100,100)\n",
    "plt.xlabel('Peak SWE difference (%)')\n",
    "plt.ylabel('Run')\n",
    "plt.title('Peak SWE Bias')\n",
    "plt.savefig(save_dir+'boxplot_peak_swe_bias', dpi=300)\n",
    "# plt.show()"
   ]
  },
  {
   "cell_type": "markdown",
   "id": "0d9d5fb8-a96d-405d-9c56-27148fde704a",
   "metadata": {},
   "source": [
    "### Barplot of Mean Peak SWE"
   ]
  },
  {
   "cell_type": "code",
   "execution_count": null,
   "id": "bd686cfd-5d01-4f2c-8217-025411c5a762",
   "metadata": {},
   "outputs": [],
   "source": [
    "pswe_mean_diff_list = list(pswe_diff_df.mean())"
   ]
  },
  {
   "cell_type": "code",
   "execution_count": null,
   "id": "8ae81ef8-6bda-45ad-9e7b-0227db3d4342",
   "metadata": {},
   "outputs": [],
   "source": [
    "pswe_mean_diff_df = pd.DataFrame(pswe_mean_diff_list, \n",
    "                                 index = ['JenningsTh', 'LivnehPT', 'LivnehT', 'LivnehP', 'GridMetPT', 'GridMetT', 'GridMetP', 'PRISM', 'SNOTEL'],\n",
    "                                 columns = ['peak_swe_diff'])"
   ]
  },
  {
   "cell_type": "code",
   "execution_count": null,
   "id": "178e5716-7e29-4151-a0b3-d05c7523cc33",
   "metadata": {},
   "outputs": [],
   "source": [
    "ax = pswe_mean_diff_df.plot(kind='barh', figsize=(8,5))\n",
    "ax.bar_label(ax.containers[0], fmt='%.2f')\n",
    "ax.set_xlim(-100,100)\n",
    "ax.axvline(0, color='black')\n",
    "ax.set_title('Peak SWE bias')\n",
    "ax.set_xlabel('Peak SWE difference (%)')\n",
    "ax.set_ylabel('Run')\n",
    "for color, bar in zip(['red','palevioletred','palevioletred','palevioletred','lightsalmon','lightsalmon','lightsalmon','darkred','blue'], ax.patches):\n",
    "    bar.set_color(color)\n",
    "plt.savefig(save_dir+'barplot_mean_peak_swe_bias.png', dpi=300)"
   ]
  },
  {
   "cell_type": "code",
   "execution_count": null,
   "id": "a8fc4d55-7605-4b74-8c36-ae0ad1630e86",
   "metadata": {},
   "outputs": [],
   "source": []
  },
  {
   "cell_type": "markdown",
   "id": "3c2b2280-c988-495c-9ff1-9c9a1460dbc0",
   "metadata": {
    "jp-MarkdownHeadingCollapsed": true,
    "tags": []
   },
   "source": [
    "# Calculate bias of each peak SWE and then average biases - 07/29/22 Brainstorm #1"
   ]
  },
  {
   "cell_type": "code",
   "execution_count": null,
   "id": "61b6d2c8-c1a8-4571-af21-5e033bf07015",
   "metadata": {},
   "outputs": [],
   "source": [
    "# for each experiment:\n",
    "#    for each station:\n",
    "#       get peak SWE (1 april SWE) across years (for each year)\n",
    "#       calculate difference in peak SWE (compared to SNOTEL baseline)\n",
    "# boxplot of peak SWE differences "
   ]
  },
  {
   "cell_type": "markdown",
   "id": "c0689158-5bde-44b8-a922-1ce95f949b1f",
   "metadata": {
    "tags": []
   },
   "source": [
    "## Compute peak SWE (for each station and year)"
   ]
  },
  {
   "cell_type": "code",
   "execution_count": null,
   "id": "92c17d8d-9c4c-4ba5-8eb9-58ee72709cc1",
   "metadata": {},
   "outputs": [],
   "source": [
    "def get_peak_swe(df, column):    # adapted from swe_triange_metrics function in swe_triangle_metrics.ipynb\n",
    "    if column == 'snotel_swe':\n",
    "        swe = df['snotel_swe']\n",
    "    elif column == 'ua_swe':\n",
    "        swe = df['ua_swe']\n",
    "    elif column == 'my_scaled_swe':\n",
    "        swe = df['final_scaled_swe']\n",
    "    elif column == 'my_krig_scaled_swe':\n",
    "        swe = df['krig_scaled_swe']\n",
    "    else:\n",
    "        raise ValueError('Unexpected column.')    \n",
    "    \n",
    "    # SPD (peak swe) date\n",
    "    spd_date = pd.to_datetime(df['datetime'].loc[swe.idxmax()])   #spd_date_yr = pd.to_datetime(df['datetime'].loc[df['final_scaled_swe'].idxmax()])\n",
    "    # SPD SWE depth\n",
    "    spd_depth = swe.loc[swe.idxmax()]   #spd_swe_yr = df['final_scaled_swe'].loc[df['final_scaled_swe'].idxmax()]\n",
    "    \n",
    "    return spd_date, spd_depth"
   ]
  },
  {
   "cell_type": "code",
   "execution_count": null,
   "id": "cc09d49a-8c06-415c-9653-c43a464af3c8",
   "metadata": {},
   "outputs": [],
   "source": [
    "def peak_swe_arr(df, column, year, date_run, metric_run):    # adapted from metrics_arr function in swe_triangle_metrics.ipynb\n",
    "    yr_df = df[(pd.to_datetime(df['datetime']) > datetime(year,7,31)) & (pd.to_datetime(df['datetime']) < datetime(year+1,8,1))]\n",
    "    # yr_df = df[(pd.to_datetime(df['datetime']) > datetime(year,10,1)) & (pd.to_datetime(df['datetime']) < datetime(year+1,6,30))]\n",
    "    peak_swe_date, peak_swe_depth = get_peak_swe(yr_df, column)\n",
    "    # x_run.extend((0, peak_swe_date))\n",
    "    # y_run.extend((0, peak_swe_depth))\n",
    "    date_run.append(peak_swe_date)\n",
    "    metric_run.append(peak_swe_depth)\n",
    "    return date_run, metric_run"
   ]
  },
  {
   "cell_type": "code",
   "execution_count": null,
   "id": "b0820906-6d4d-499d-b86e-8269a356cd42",
   "metadata": {},
   "outputs": [],
   "source": [
    "# initialize lists\n",
    "site_code = []\n",
    "year = []\n",
    "pswe_date_snotel, pswe_snotel = [], []\n",
    "pswe_date_ua, pswe_ua = [], [] \n",
    "pswe_date_pprism_tprism, pswe_pprism_tprism = [], []\n",
    "pswe_date_pgridmet_tprism, pswe_pgridmet_tprism = [], []\n",
    "pswe_date_pprism_tgridmet, pswe_pprism_tgridmet = [], []\n",
    "pswe_date_pgridmet_tgridmet, pswe_pgridmet_tgridmet = [], []\n",
    "pswe_date_plivneh_tprism, pswe_plivneh_tprism = [], []\n",
    "pswe_date_pprism_tlivneh, pswe_pprism_tlivneh = [], []\n",
    "pswe_date_plivneh_tlivneh, pswe_plivneh_tlivneh = [], []\n",
    "pswe_date_pprism_tprism_thjennings, pswe_pprism_tprism_thjennings = [], []"
   ]
  },
  {
   "cell_type": "code",
   "execution_count": null,
   "id": "48d8c550-990f-4451-be97-1c8a47bd9a17",
   "metadata": {
    "tags": []
   },
   "outputs": [],
   "source": [
    "for idx, row in gm_snotel_sites.iterrows():\n",
    "    sitecode = row['code']\n",
    "    print(sitecode)\n",
    "    # site_lon, site_lat = row['geometry'].x, row['geometry'].y\n",
    "    \n",
    "    if os.path.exists(f'{pr_prism_temp_prism_dir}{sitecode}_concise.csv') and sitecode != '396_UT_SNTL' and sitecode != '435_UT_SNTL':\n",
    "        # Load data\n",
    "        pr_prism_temp_prism_df = pd.read_csv(f'{pr_prism_temp_prism_dir}{sitecode}_concise.csv', index_col='Unnamed: 0')\n",
    "        pr_gridmet_temp_prism_df = pd.read_csv(f'{pr_gridmet_temp_prism_dir}{sitecode}_concise.csv', index_col='Unnamed: 0')\n",
    "        pr_prism_temp_gridmet_df = pd.read_csv(f'{pr_prism_temp_gridmet_dir}{sitecode}_concise.csv', index_col='Unnamed: 0')\n",
    "        pr_gridmet_temp_gridmet_df = pd.read_csv(f'{pr_gridmet_temp_gridmet_dir}{sitecode}_concise.csv', index_col='Unnamed: 0')\n",
    "        pr_livneh_temp_prism_df = pd.read_csv(f'{pr_livneh_temp_prism_dir}{sitecode}_concise.csv', index_col='Unnamed: 0')\n",
    "        pr_prism_temp_livneh_df = pd.read_csv(f'{pr_prism_temp_livneh_dir}{sitecode}_concise.csv', index_col='Unnamed: 0')\n",
    "        pr_livneh_temp_livneh_df = pd.read_csv(f'{pr_livneh_temp_livneh_dir}{sitecode}_concise.csv', index_col='Unnamed: 0')\n",
    "        pr_prism_temp_prism_th_jennings_df = pd.read_csv(f'{th_jennings_dir}{sitecode}_concise.csv', index_col='Unnamed: 0')\n",
    "        \n",
    "        for yr in np.unique(pd.to_datetime(pr_prism_temp_prism_df['datetime']).dt.year)[:-1]:\n",
    "            # print(yr)\n",
    "            site_code.append(sitecode)\n",
    "            year.append(yr)\n",
    "            pswe_date_snotel, pswe_snotel = peak_swe_arr(pr_prism_temp_prism_df, 'snotel_swe', yr, pswe_date_snotel, pswe_snotel)\n",
    "            pswe_date_ua, pswe_ua = peak_swe_arr(pr_prism_temp_prism_df, 'ua_swe', yr, pswe_date_ua, pswe_ua)\n",
    "            pswe_date_pprism_tprism, pswe_pprism_tprism = peak_swe_arr(pr_prism_temp_prism_df, 'my_scaled_swe', yr, pswe_date_pprism_tprism, pswe_pprism_tprism)\n",
    "            pswe_date_pgridmet_tprism, pswe_pgridmet_tprism = peak_swe_arr(pr_gridmet_temp_prism_df, 'my_scaled_swe', yr, pswe_date_pgridmet_tprism, pswe_pgridmet_tprism)\n",
    "            pswe_date_pprism_tgridmet, pswe_pprism_tgridmet = peak_swe_arr(pr_prism_temp_gridmet_df, 'my_scaled_swe', yr, pswe_date_pprism_tgridmet, pswe_pprism_tgridmet)\n",
    "            pswe_date_pgridmet_tgridmet, pswe_pgridmet_tgridmet = peak_swe_arr(pr_gridmet_temp_gridmet_df, 'my_scaled_swe', yr, pswe_date_pgridmet_tgridmet, pswe_pgridmet_tgridmet)\n",
    "            pswe_date_plivneh_tprism, pswe_plivneh_tprism = peak_swe_arr(pr_livneh_temp_prism_df, 'my_scaled_swe', yr, pswe_date_plivneh_tprism, pswe_plivneh_tprism)\n",
    "            pswe_date_pprism_tlivneh, pswe_pprism_tlivneh = peak_swe_arr(pr_prism_temp_livneh_df, 'my_scaled_swe', yr, pswe_date_pprism_tlivneh, pswe_pprism_tlivneh)\n",
    "            pswe_date_plivneh_tlivneh, pswe_plivneh_tlivneh = peak_swe_arr(pr_livneh_temp_livneh_df, 'my_scaled_swe', yr, pswe_date_plivneh_tlivneh, pswe_plivneh_tlivneh)\n",
    "            pswe_date_pprism_tprism_thjennings, pswe_pprism_tprism_thjennings = peak_swe_arr(pr_prism_temp_prism_th_jennings_df, 'my_scaled_swe', yr, pswe_date_pprism_tprism_thjennings, pswe_pprism_tprism_thjennings)\n",
    "            "
   ]
  },
  {
   "cell_type": "markdown",
   "id": "9e8fec99-bac7-4c00-889d-6c803cb17345",
   "metadata": {
    "tags": []
   },
   "source": [
    "## Compute Biases/Differences"
   ]
  },
  {
   "cell_type": "code",
   "execution_count": null,
   "id": "4a0466af-63f8-455f-9a2a-51f8ef174e08",
   "metadata": {
    "tags": []
   },
   "outputs": [],
   "source": [
    "# UA difference\n",
    "ua_bias = (np.array(pswe_ua) / np.array(pswe_snotel)) - 1"
   ]
  },
  {
   "cell_type": "markdown",
   "id": "7fbc0c16-e669-428d-8f13-baae0343acb4",
   "metadata": {},
   "source": [
    "### Layer 1"
   ]
  },
  {
   "cell_type": "code",
   "execution_count": null,
   "id": "d19f42ca-dd5c-400e-af4b-05cd340a9718",
   "metadata": {},
   "outputs": [],
   "source": [
    "snotel_bias = (np.array(pswe_snotel) / np.array(pswe_snotel)) - 1"
   ]
  },
  {
   "cell_type": "markdown",
   "id": "1760ca2f-c8bb-4a5f-9ce5-e65cd31dc2dc",
   "metadata": {},
   "source": [
    "### Layer 2"
   ]
  },
  {
   "cell_type": "code",
   "execution_count": null,
   "id": "de63079a-fe18-43a9-b8f3-d5ca4cbdf7fd",
   "metadata": {},
   "outputs": [],
   "source": [
    "prism_bias = (np.array(pswe_pprism_tprism) / np.array(pswe_snotel)) - 1"
   ]
  },
  {
   "cell_type": "markdown",
   "id": "efd68a99-4115-4611-8921-2fe0401cc7c5",
   "metadata": {},
   "source": [
    "### Layer 3"
   ]
  },
  {
   "cell_type": "markdown",
   "id": "e4668993-14a1-4398-adf9-f5ceb96947d8",
   "metadata": {},
   "source": [
    "#### 3ai"
   ]
  },
  {
   "cell_type": "markdown",
   "id": "7911a65e-8c49-4d21-a68a-7372bced85c4",
   "metadata": {},
   "source": [
    "##### Gridmet"
   ]
  },
  {
   "cell_type": "code",
   "execution_count": null,
   "id": "bdbc17a6-4912-4880-b9f9-251732fc5b95",
   "metadata": {},
   "outputs": [],
   "source": [
    "# (pswe_pgridmet_tprism_smean / pswe_snotel_smean) - 1"
   ]
  },
  {
   "cell_type": "code",
   "execution_count": null,
   "id": "4deedb80-04e3-433b-8335-a6b2b21fe6c1",
   "metadata": {},
   "outputs": [],
   "source": [
    "pgridmet_bias = ((np.array(pswe_pgridmet_tprism) / np.array(pswe_snotel)) - 1)"
   ]
  },
  {
   "cell_type": "markdown",
   "id": "6db6edc3-ad3b-4172-a345-3f901df2288d",
   "metadata": {},
   "source": [
    "##### Livneh"
   ]
  },
  {
   "cell_type": "code",
   "execution_count": null,
   "id": "b72b060b-2caf-4ab6-a573-c9a5011a69f9",
   "metadata": {},
   "outputs": [],
   "source": [
    "# (pswe_plivneh_tprism_smean / pswe_snotel_smean) - 1"
   ]
  },
  {
   "cell_type": "code",
   "execution_count": null,
   "id": "032def72-1f95-443e-b582-ed164e3df2af",
   "metadata": {},
   "outputs": [],
   "source": [
    "plivneh_bias = ((np.array(pswe_plivneh_tprism) / np.array(pswe_snotel)) - 1)"
   ]
  },
  {
   "cell_type": "markdown",
   "id": "83d16287-28b5-453f-9636-04f09c114668",
   "metadata": {},
   "source": [
    "#### 3aii"
   ]
  },
  {
   "cell_type": "markdown",
   "id": "ce3ac00f-cc7c-4dc9-9a69-09231734d489",
   "metadata": {},
   "source": [
    "##### Gridmet"
   ]
  },
  {
   "cell_type": "code",
   "execution_count": null,
   "id": "49a46547-3ade-4d05-84ec-b43e1fdf2d92",
   "metadata": {},
   "outputs": [],
   "source": [
    "# (pswe_pprism_tgridmet_smean / pswe_snotel_smean) - 1"
   ]
  },
  {
   "cell_type": "code",
   "execution_count": null,
   "id": "04126fc2-dc88-4e99-9148-1a3ce91a4b34",
   "metadata": {},
   "outputs": [],
   "source": [
    "tgridmet_bias = ((np.array(pswe_pprism_tgridmet) / np.array(pswe_snotel)) - 1)"
   ]
  },
  {
   "cell_type": "markdown",
   "id": "14ac3778-d565-4b2f-ba3d-227d9ff36b45",
   "metadata": {},
   "source": [
    "##### Livneh"
   ]
  },
  {
   "cell_type": "code",
   "execution_count": null,
   "id": "83bb1f7f-14f4-4a98-9c02-b51fbcc2bb96",
   "metadata": {},
   "outputs": [],
   "source": [
    "# (pswe_pprism_tlivneh_smean / pswe_snotel_smean) - 1"
   ]
  },
  {
   "cell_type": "code",
   "execution_count": null,
   "id": "dd32ccaa-2cc3-41bd-8434-6fc9b2702c7a",
   "metadata": {},
   "outputs": [],
   "source": [
    "tlivneh_bias = ((np.array(pswe_pprism_tlivneh) / np.array(pswe_snotel)) - 1)"
   ]
  },
  {
   "cell_type": "markdown",
   "id": "42f8f2e5-ae70-48fe-be81-ef51e94fb351",
   "metadata": {},
   "source": [
    "#### 3aiii"
   ]
  },
  {
   "cell_type": "markdown",
   "id": "f0deac90-7f8e-420f-9122-3ded58db88fb",
   "metadata": {},
   "source": [
    "##### Gridmet"
   ]
  },
  {
   "cell_type": "code",
   "execution_count": null,
   "id": "8b55d63f-e2a3-47d9-94d8-645d170749f8",
   "metadata": {},
   "outputs": [],
   "source": [
    "# (pswe_pgridmet_tgridmet_smean / pswe_snotel_smean) - 1"
   ]
  },
  {
   "cell_type": "code",
   "execution_count": null,
   "id": "580741d5-85b6-4d4a-82a7-211a85d631fe",
   "metadata": {},
   "outputs": [],
   "source": [
    "ptgridmet_bias = ((np.array(pswe_pgridmet_tgridmet) / np.array(pswe_snotel)) - 1)"
   ]
  },
  {
   "cell_type": "markdown",
   "id": "866185fd-bc40-472e-8269-3bc0f45d7a34",
   "metadata": {},
   "source": [
    "##### Livneh"
   ]
  },
  {
   "cell_type": "code",
   "execution_count": null,
   "id": "98b72323-2b99-4518-ab68-d2ae9988cc7d",
   "metadata": {},
   "outputs": [],
   "source": [
    "# (pswe_plivneh_tlivneh_smean / pswe_snotel_smean) - 1"
   ]
  },
  {
   "cell_type": "code",
   "execution_count": null,
   "id": "69377e9a-2e44-48c9-b256-d68992e1d87d",
   "metadata": {},
   "outputs": [],
   "source": [
    "ptlivneh_bias = ((np.array(pswe_plivneh_tlivneh) / np.array(pswe_snotel)) - 1)"
   ]
  },
  {
   "cell_type": "markdown",
   "id": "21984247-5904-44c7-83c5-ffae50268192",
   "metadata": {},
   "source": [
    "#### 3b"
   ]
  },
  {
   "cell_type": "code",
   "execution_count": null,
   "id": "e5b820f2-b3aa-4e79-99bb-66c17dcb2a6e",
   "metadata": {},
   "outputs": [],
   "source": [
    "# (pswe_pprism_tprism_thjennings_smean / pswe_snotel_smean) - 1"
   ]
  },
  {
   "cell_type": "code",
   "execution_count": null,
   "id": "d53203a0-95f6-45d9-95ec-181102116b1e",
   "metadata": {},
   "outputs": [],
   "source": [
    "thjennings_bias = ((np.array(pswe_pprism_tprism_thjennings) / np.array(pswe_snotel)) - 1)"
   ]
  },
  {
   "cell_type": "code",
   "execution_count": null,
   "id": "0816cbda-d577-41f2-8e78-f7399b2d9f56",
   "metadata": {},
   "outputs": [],
   "source": []
  },
  {
   "cell_type": "markdown",
   "id": "1dae392d-ef26-4007-96b4-b5cc63cbe5e5",
   "metadata": {
    "tags": []
   },
   "source": [
    "## Plots"
   ]
  },
  {
   "cell_type": "markdown",
   "id": "999c2b08-5e05-474d-a3bb-e0a18ec88c50",
   "metadata": {},
   "source": [
    "### Boxplot of all peak SWE differences"
   ]
  },
  {
   "cell_type": "code",
   "execution_count": null,
   "id": "50dbf54a-4d68-4f53-b8e6-c01755814f00",
   "metadata": {},
   "outputs": [],
   "source": [
    "pswe_diff_df = pd.DataFrame(list(zip(snotel_bias, prism_bias, pgridmet_bias, tgridmet_bias, ptgridmet_bias, plivneh_bias, tlivneh_bias, ptlivneh_bias, thjennings_bias)), \n",
    "                                 columns = ['SNOTEL', 'PRISM', 'GridMetP', 'GridMetT', 'GridMetPT', 'LivnehP', 'LivnehT', 'LivnehPT', 'JenningsTh'])"
   ]
  },
  {
   "cell_type": "code",
   "execution_count": null,
   "id": "7bbef41f-75cb-47b9-a28e-33aa21dd8dcf",
   "metadata": {},
   "outputs": [],
   "source": [
    "# convert to %\n",
    "pswe_diff_df = pswe_diff_df*100"
   ]
  },
  {
   "cell_type": "code",
   "execution_count": null,
   "id": "10f5d096-9dec-4092-afd8-7089f4563088",
   "metadata": {},
   "outputs": [],
   "source": [
    "# flip order of runs (i.e. columns)\n",
    "pswe_diff_df = pswe_diff_df.iloc[:, ::-1]"
   ]
  },
  {
   "cell_type": "code",
   "execution_count": null,
   "id": "756cb876-9aff-493e-a44e-e16371adb1cf",
   "metadata": {},
   "outputs": [],
   "source": [
    "# colors = ['w', 'w', 'c', 'y', 'm', 'c', 'y', 'm']\n",
    "colors = ['b', 'm', 'y', 'c', 'm', 'y', 'c', 'w', 'w']\n",
    "\n",
    "fig,ax = plt.subplots(figsize=(10,6)) \n",
    "plt.axvline(0, color='black')\n",
    "ax,props = pswe_diff_df.plot.box(patch_artist=True, return_type='both', ax=ax, vert=False)\n",
    "for patch,color in zip(props['boxes'],colors):\n",
    "    patch.set_facecolor(color)\n",
    "plt.grid()\n",
    "plt.xlim(-100,100)\n",
    "plt.xlabel('Peak SWE difference (%)')\n",
    "plt.ylabel('Run')\n",
    "plt.title('Peak SWE Bias')\n",
    "# plt.savefig(save_dir+'boxplot_peak_swe', dpi=300)\n",
    "# plt.show()"
   ]
  },
  {
   "cell_type": "markdown",
   "id": "ef149ce6-61ad-4afb-b367-9992a23e68f6",
   "metadata": {},
   "source": [
    "### Barplot of Mean Peak SWE"
   ]
  },
  {
   "cell_type": "code",
   "execution_count": null,
   "id": "c9352a42-346a-4a45-903e-ef0ebb2c81ae",
   "metadata": {},
   "outputs": [],
   "source": [
    "pswe_mean_diff_list = list(pswe_diff_df.mean())"
   ]
  },
  {
   "cell_type": "code",
   "execution_count": null,
   "id": "2a54d7f3-f330-425e-842e-ab89cc1472eb",
   "metadata": {},
   "outputs": [],
   "source": [
    "pswe_mean_diff_df = pd.DataFrame(pswe_mean_diff_list, \n",
    "                                 index = ['JenningsTh', 'LivnehPT', 'LivnehT', 'LivnehP', 'GridMetPT', 'GridMetT', 'GridMetP', 'PRISM', 'SNOTEL'],\n",
    "                                 columns = ['peak_swe_diff'])"
   ]
  },
  {
   "cell_type": "code",
   "execution_count": null,
   "id": "372b40f5-c43c-46cc-bbf1-d45505ae76df",
   "metadata": {},
   "outputs": [],
   "source": [
    "ax = pswe_mean_diff_df.plot(kind='barh', figsize=(8,5))\n",
    "ax.bar_label(ax.containers[0], fmt='%.2f')\n",
    "ax.set_xlim(-100,100)\n",
    "ax.axvline(0, color='black')\n",
    "ax.set_title('Peak SWE bias')\n",
    "ax.set_xlabel('Peak SWE difference (%)')\n",
    "ax.set_ylabel('Run')\n",
    "for color, bar in zip(['red','palevioletred','palevioletred','palevioletred','lightsalmon','lightsalmon','lightsalmon','darkred','blue'], ax.patches):\n",
    "    bar.set_color(color)\n",
    "# plt.savefig(save_dir+'peak_swe_bias.png', dpi=300)"
   ]
  },
  {
   "cell_type": "code",
   "execution_count": null,
   "id": "169c0d1c-705b-44af-8016-37dae2575fbf",
   "metadata": {},
   "outputs": [],
   "source": []
  },
  {
   "cell_type": "markdown",
   "id": "8e58271f-d91c-4ccb-abf9-41e6cda85fba",
   "metadata": {
    "tags": []
   },
   "source": [
    "# Average peak SWE then calculate bias"
   ]
  },
  {
   "cell_type": "code",
   "execution_count": null,
   "id": "579fec6b-43fc-4daa-b2ac-4ec721f81a5d",
   "metadata": {},
   "outputs": [],
   "source": [
    "# for each experiment:\n",
    "#    for each station:\n",
    "#       get peak SWE (1 april SWE) across years (for each year)\n",
    "#       average peak SWE across years\n",
    "#    average peak SWE across stations\n",
    "#    calculate difference (compared to SNOTEL baseline)"
   ]
  },
  {
   "cell_type": "markdown",
   "id": "619d02f1-a21e-4d7d-b1ea-8bafc9cae829",
   "metadata": {
    "tags": []
   },
   "source": [
    "## Compute peak SWE means (across years and stations)"
   ]
  },
  {
   "cell_type": "code",
   "execution_count": null,
   "id": "704e0f0a-49f1-4939-8bc0-f0dfa7e656f8",
   "metadata": {},
   "outputs": [],
   "source": [
    "def get_peak_swe(df, column):    # adapted from swe_triange_metrics function in swe_triangle_metrics.ipynb\n",
    "    if column == 'snotel_swe':\n",
    "        swe = df['snotel_swe']\n",
    "    elif column == 'ua_swe':\n",
    "        swe = df['ua_swe']\n",
    "    elif column == 'my_scaled_swe':\n",
    "        swe = df['final_scaled_swe']\n",
    "    elif column == 'my_krig_scaled_swe':\n",
    "        swe = df['krig_scaled_swe']\n",
    "    else:\n",
    "        raise ValueError('Unexpected column.')    \n",
    "    \n",
    "    # SPD (peak swe) date\n",
    "    spd_date = pd.to_datetime(df['datetime'].loc[swe.idxmax()])   #spd_date_yr = pd.to_datetime(df['datetime'].loc[df['final_scaled_swe'].idxmax()])\n",
    "    # SPD SWE depth\n",
    "    spd_depth = swe.loc[swe.idxmax()]   #spd_swe_yr = df['final_scaled_swe'].loc[df['final_scaled_swe'].idxmax()]\n",
    "    \n",
    "    return spd_date, spd_depth"
   ]
  },
  {
   "cell_type": "code",
   "execution_count": null,
   "id": "ef685f5b-97cb-471a-8fa8-aa05a1e3f84c",
   "metadata": {},
   "outputs": [],
   "source": [
    "def peak_swe_arr(df, column, year, date_run, metric_run):    # adapted from metrics_arr function in swe_triangle_metrics.ipynb\n",
    "    yr_df = df[(pd.to_datetime(df['datetime']) > datetime(year,7,31)) & (pd.to_datetime(df['datetime']) < datetime(year+1,8,1))]\n",
    "    # yr_df = df[(pd.to_datetime(df['datetime']) > datetime(year,10,1)) & (pd.to_datetime(df['datetime']) < datetime(year+1,6,30))]\n",
    "    peak_swe_date, peak_swe_depth = get_peak_swe(yr_df, column)\n",
    "    # x_run.extend((0, peak_swe_date))\n",
    "    # y_run.extend((0, peak_swe_depth))\n",
    "    date_run.append(peak_swe_date)\n",
    "    metric_run.append(peak_swe_depth)\n",
    "    return date_run, metric_run"
   ]
  },
  {
   "cell_type": "code",
   "execution_count": null,
   "id": "f9ea834d-67a6-4862-aa4f-9359c3e8a299",
   "metadata": {},
   "outputs": [],
   "source": [
    "pswe_snotel_ymeans = []\n",
    "pswe_ua_ymeans = []\n",
    "pswe_pprism_tprism_ymeans = []\n",
    "pswe_pgridmet_tprism_ymeans = []\n",
    "pswe_pprism_tgridmet_ymeans = []\n",
    "pswe_pgridmet_tgridmet_ymeans = []\n",
    "pswe_plivneh_tprism_ymeans = []\n",
    "pswe_pprism_tlivneh_ymeans = []\n",
    "pswe_plivneh_tlivneh_ymeans = []\n",
    "pswe_pprism_tprism_thjennings_ymeans = []"
   ]
  },
  {
   "cell_type": "code",
   "execution_count": null,
   "id": "29a7d7c5-475d-4969-bd14-bc73fab049f2",
   "metadata": {
    "tags": []
   },
   "outputs": [],
   "source": [
    "# site_code = []\n",
    "# year = []\n",
    "# pswe_date_snotel, pswe_snotel = [], []\n",
    "# pswe_date_ua, pswe_ua = [], [] \n",
    "# pswe_date_pprism_tprism, pswe_pprism_tprism = [], []\n",
    "# pswe_date_pgridmet_tprism, pswe_pgridmet_tprism = [], []\n",
    "# pswe_date_pprism_tgridmet, pswe_pprism_tgridmet = [], []\n",
    "# pswe_date_pgridmet_tgridmet, pswe_pgridmet_tgridmet = [], []\n",
    "# pswe_date_plivneh_tprism, pswe_plivneh_tprism = [], []\n",
    "# pswe_date_pprism_tlivneh, pswe_pprism_tlivneh = [], []\n",
    "# pswe_date_plivneh_tlivneh, pswe_plivneh_tlivneh = [], []\n",
    "# pswe_date_pprism_tprism_thjennings, pswe_pprism_tprism_thjennings = [], []"
   ]
  },
  {
   "cell_type": "code",
   "execution_count": null,
   "id": "aa0d62e3-3a4f-4998-b570-0825bf83dfdb",
   "metadata": {
    "tags": []
   },
   "outputs": [],
   "source": [
    "for idx, row in gm_snotel_sites.iterrows():\n",
    "    sitecode = row['code']\n",
    "    print(sitecode)\n",
    "    # site_lon, site_lat = row['geometry'].x, row['geometry'].y\n",
    "    \n",
    "    # (re-)initialize lists\n",
    "    site_code = []\n",
    "    year = []\n",
    "    pswe_date_snotel, pswe_snotel = [], []\n",
    "    pswe_date_ua, pswe_ua = [], [] \n",
    "    pswe_date_pprism_tprism, pswe_pprism_tprism = [], []\n",
    "    pswe_date_pgridmet_tprism, pswe_pgridmet_tprism = [], []\n",
    "    pswe_date_pprism_tgridmet, pswe_pprism_tgridmet = [], []\n",
    "    pswe_date_pgridmet_tgridmet, pswe_pgridmet_tgridmet = [], []\n",
    "    pswe_date_plivneh_tprism, pswe_plivneh_tprism = [], []\n",
    "    pswe_date_pprism_tlivneh, pswe_pprism_tlivneh = [], []\n",
    "    pswe_date_plivneh_tlivneh, pswe_plivneh_tlivneh = [], []\n",
    "    pswe_date_pprism_tprism_thjennings, pswe_pprism_tprism_thjennings = [], []\n",
    "    \n",
    "    if os.path.exists(f'{pr_prism_temp_prism_dir}{sitecode}_concise.csv') and sitecode != '396_UT_SNTL' and sitecode != '435_UT_SNTL':\n",
    "        # Load data\n",
    "        pr_prism_temp_prism_df = pd.read_csv(f'{pr_prism_temp_prism_dir}{sitecode}_concise.csv', index_col='Unnamed: 0')\n",
    "        pr_gridmet_temp_prism_df = pd.read_csv(f'{pr_gridmet_temp_prism_dir}{sitecode}_concise.csv', index_col='Unnamed: 0')\n",
    "        pr_prism_temp_gridmet_df = pd.read_csv(f'{pr_prism_temp_gridmet_dir}{sitecode}_concise.csv', index_col='Unnamed: 0')\n",
    "        pr_gridmet_temp_gridmet_df = pd.read_csv(f'{pr_gridmet_temp_gridmet_dir}{sitecode}_concise.csv', index_col='Unnamed: 0')\n",
    "        pr_livneh_temp_prism_df = pd.read_csv(f'{pr_livneh_temp_prism_dir}{sitecode}_concise.csv', index_col='Unnamed: 0')\n",
    "        pr_prism_temp_livneh_df = pd.read_csv(f'{pr_prism_temp_livneh_dir}{sitecode}_concise.csv', index_col='Unnamed: 0')\n",
    "        pr_livneh_temp_livneh_df = pd.read_csv(f'{pr_livneh_temp_livneh_dir}{sitecode}_concise.csv', index_col='Unnamed: 0')\n",
    "        pr_prism_temp_prism_th_jennings_df = pd.read_csv(f'{th_jennings_dir}{sitecode}_concise.csv', index_col='Unnamed: 0')\n",
    "        \n",
    "        for yr in np.unique(pd.to_datetime(pr_prism_temp_prism_df['datetime']).dt.year)[:-1]:\n",
    "            # print(yr)\n",
    "            site_code.append(sitecode)\n",
    "            year.append(yr)\n",
    "            pswe_date_snotel, pswe_snotel = peak_swe_arr(pr_prism_temp_prism_df, 'snotel_swe', yr, pswe_date_snotel, pswe_snotel)\n",
    "            pswe_date_ua, pswe_ua = peak_swe_arr(pr_prism_temp_prism_df, 'ua_swe', yr, pswe_date_ua, pswe_ua)\n",
    "            pswe_date_pprism_tprism, pswe_pprism_tprism = peak_swe_arr(pr_prism_temp_prism_df, 'my_scaled_swe', yr, pswe_date_pprism_tprism, pswe_pprism_tprism)\n",
    "            pswe_date_pgridmet_tprism, pswe_pgridmet_tprism = peak_swe_arr(pr_gridmet_temp_prism_df, 'my_scaled_swe', yr, pswe_date_pgridmet_tprism, pswe_pgridmet_tprism)\n",
    "            pswe_date_pprism_tgridmet, pswe_pprism_tgridmet = peak_swe_arr(pr_prism_temp_gridmet_df, 'my_scaled_swe', yr, pswe_date_pprism_tgridmet, pswe_pprism_tgridmet)\n",
    "            pswe_date_pgridmet_tgridmet, pswe_pgridmet_tgridmet = peak_swe_arr(pr_gridmet_temp_gridmet_df, 'my_scaled_swe', yr, pswe_date_pgridmet_tgridmet, pswe_pgridmet_tgridmet)\n",
    "            pswe_date_plivneh_tprism, pswe_plivneh_tprism = peak_swe_arr(pr_livneh_temp_prism_df, 'my_scaled_swe', yr, pswe_date_plivneh_tprism, pswe_plivneh_tprism)\n",
    "            pswe_date_pprism_tlivneh, pswe_pprism_tlivneh = peak_swe_arr(pr_prism_temp_livneh_df, 'my_scaled_swe', yr, pswe_date_pprism_tlivneh, pswe_pprism_tlivneh)\n",
    "            pswe_date_plivneh_tlivneh, pswe_plivneh_tlivneh = peak_swe_arr(pr_livneh_temp_livneh_df, 'my_scaled_swe', yr, pswe_date_plivneh_tlivneh, pswe_plivneh_tlivneh)\n",
    "            pswe_date_pprism_tprism_thjennings, pswe_pprism_tprism_thjennings = peak_swe_arr(pr_prism_temp_prism_th_jennings_df, 'my_scaled_swe', yr, pswe_date_pprism_tprism_thjennings, pswe_pprism_tprism_thjennings)\n",
    "\n",
    "        # compute mean across years (for each station)\n",
    "        # print(site_code, pswe_snotel)\n",
    "        pswe_snotel_ymeans.append(statistics.mean(pswe_snotel))\n",
    "        pswe_ua_ymeans.append(statistics.mean(pswe_ua))\n",
    "        pswe_pprism_tprism_ymeans.append(statistics.mean(pswe_pprism_tprism))\n",
    "        pswe_pgridmet_tprism_ymeans.append(statistics.mean(pswe_pgridmet_tprism))\n",
    "        pswe_pprism_tgridmet_ymeans.append(statistics.mean(pswe_pprism_tgridmet))\n",
    "        pswe_pgridmet_tgridmet_ymeans.append(statistics.mean(pswe_pgridmet_tgridmet))\n",
    "        pswe_plivneh_tprism_ymeans.append(statistics.mean(pswe_plivneh_tprism))\n",
    "        pswe_pprism_tlivneh_ymeans.append(statistics.mean(pswe_pprism_tlivneh))\n",
    "        pswe_plivneh_tlivneh_ymeans.append(statistics.mean(pswe_plivneh_tlivneh))\n",
    "        pswe_pprism_tprism_thjennings_ymeans.append(statistics.mean(pswe_pprism_tprism_thjennings))\n",
    "\n",
    "# average across stations\n",
    "pswe_snotel_smean = statistics.mean(pswe_snotel_ymeans)\n",
    "pswe_ua_smean = statistics.mean(pswe_ua_ymeans)\n",
    "pswe_pprism_tprism_smean = statistics.mean(pswe_pprism_tprism_ymeans)\n",
    "pswe_pgridmet_tprism_smean = statistics.mean(pswe_pgridmet_tprism_ymeans)\n",
    "pswe_pprism_tgridmet_smean = statistics.mean(pswe_pprism_tgridmet_ymeans)\n",
    "pswe_pgridmet_tgridmet_smean = statistics.mean(pswe_pgridmet_tgridmet_ymeans)\n",
    "pswe_plivneh_tprism_smean = statistics.mean(pswe_plivneh_tprism_ymeans)\n",
    "pswe_pprism_tlivneh_smean = statistics.mean(pswe_pprism_tlivneh_ymeans)\n",
    "pswe_plivneh_tlivneh_smean = statistics.mean(pswe_plivneh_tlivneh_ymeans)\n",
    "pswe_pprism_tprism_thjennings_smean = statistics.mean(pswe_pprism_tprism_thjennings_ymeans)\n",
    "    \n",
    "# break"
   ]
  },
  {
   "cell_type": "code",
   "execution_count": null,
   "id": "9284afee-5522-41d4-82cc-ec90c0e98b00",
   "metadata": {},
   "outputs": [],
   "source": [
    "pswe_snotel_smean"
   ]
  },
  {
   "cell_type": "code",
   "execution_count": null,
   "id": "cde1a309-8732-4d17-bad5-c57ec2a939b4",
   "metadata": {},
   "outputs": [],
   "source": [
    "print(pswe_snotel_smean, pswe_ua_smean, pswe_pprism_tprism_smean, pswe_pgridmet_tprism_smean, pswe_pprism_tgridmet_smean,\n",
    "      pswe_pgridmet_tgridmet_smean, pswe_plivneh_tprism_smean, pswe_pprism_tlivneh_smean, pswe_plivneh_tlivneh_smean, \n",
    "      pswe_pprism_tprism_thjennings_smean)"
   ]
  },
  {
   "cell_type": "code",
   "execution_count": null,
   "id": "aca09995-afbc-4580-a8ef-402d0427094e",
   "metadata": {},
   "outputs": [],
   "source": []
  },
  {
   "cell_type": "markdown",
   "id": "6bc16a6d-00c9-41b4-85e8-ce5d986608fd",
   "metadata": {
    "tags": []
   },
   "source": [
    "## Compute Biases/Differences"
   ]
  },
  {
   "cell_type": "code",
   "execution_count": null,
   "id": "6baf0ba2-425b-45d3-8b55-411a8fa089ee",
   "metadata": {},
   "outputs": [],
   "source": [
    "# UA difference\n",
    "(pswe_ua_smean / pswe_snotel_smean) - 1"
   ]
  },
  {
   "cell_type": "markdown",
   "id": "49343846-d1bc-473a-9e90-bf4906cf22d2",
   "metadata": {},
   "source": [
    "### Layer 1"
   ]
  },
  {
   "cell_type": "code",
   "execution_count": null,
   "id": "0b0a6483-fae2-4ade-bc78-ebde1e26fe39",
   "metadata": {},
   "outputs": [],
   "source": [
    "snotel_bias = (pswe_snotel_smean / pswe_snotel_smean) - 1"
   ]
  },
  {
   "cell_type": "markdown",
   "id": "0a135b76-e268-47e2-b6b3-48f1bc8a0a9e",
   "metadata": {},
   "source": [
    "### Layer 2"
   ]
  },
  {
   "cell_type": "code",
   "execution_count": null,
   "id": "0eb67249-f2d7-4e72-a15e-f59121ae99b5",
   "metadata": {},
   "outputs": [],
   "source": [
    "prism_bias = (pswe_pprism_tprism_smean / pswe_snotel_smean) - 1"
   ]
  },
  {
   "cell_type": "markdown",
   "id": "5930ee30-efcc-4e8f-a7f3-f06b31967ce4",
   "metadata": {},
   "source": [
    "### Layer 3"
   ]
  },
  {
   "cell_type": "markdown",
   "id": "197f6f5f-05c5-4234-b5ab-a7ff54533044",
   "metadata": {},
   "source": [
    "#### 3ai"
   ]
  },
  {
   "cell_type": "markdown",
   "id": "20e5d36d-423f-4b9e-a548-af2ed028ebb1",
   "metadata": {},
   "source": [
    "##### Gridmet"
   ]
  },
  {
   "cell_type": "code",
   "execution_count": null,
   "id": "eda79a13-2e06-4b8a-a18a-e68c5d998355",
   "metadata": {},
   "outputs": [],
   "source": [
    "# (pswe_pgridmet_tprism_smean / pswe_snotel_smean) - 1"
   ]
  },
  {
   "cell_type": "code",
   "execution_count": null,
   "id": "c0e77542-4016-445f-ac8e-b48eaf1c3a25",
   "metadata": {},
   "outputs": [],
   "source": [
    "pgridmet_bias = ((pswe_pgridmet_tprism_smean / pswe_pprism_tprism_smean) - 1) + ((pswe_pprism_tprism_smean / pswe_snotel_smean) - 1)"
   ]
  },
  {
   "cell_type": "markdown",
   "id": "a207823a-bf3a-4f0e-92ea-a6d79d1888f7",
   "metadata": {},
   "source": [
    "##### Livneh"
   ]
  },
  {
   "cell_type": "code",
   "execution_count": null,
   "id": "bfaf2084-a69a-4d7c-8d7e-3b12a3e3ef05",
   "metadata": {},
   "outputs": [],
   "source": [
    "# (pswe_plivneh_tprism_smean / pswe_snotel_smean) - 1"
   ]
  },
  {
   "cell_type": "code",
   "execution_count": null,
   "id": "20ba6e24-77de-4477-8be7-a1509ca629a8",
   "metadata": {},
   "outputs": [],
   "source": [
    "plivneh_bias = ((pswe_plivneh_tprism_smean / pswe_pprism_tprism_smean) - 1) + ((pswe_pprism_tprism_smean / pswe_snotel_smean) - 1)"
   ]
  },
  {
   "cell_type": "markdown",
   "id": "45b5f47c-11cd-4c15-b943-b9c6b85ebcea",
   "metadata": {},
   "source": [
    "#### 3aii"
   ]
  },
  {
   "cell_type": "markdown",
   "id": "ca6239f5-d40f-4989-8fa4-b2f11a72d3e1",
   "metadata": {},
   "source": [
    "##### Gridmet"
   ]
  },
  {
   "cell_type": "code",
   "execution_count": null,
   "id": "d833433c-b3ae-4987-9f30-7a5b2558b324",
   "metadata": {},
   "outputs": [],
   "source": [
    "# (pswe_pprism_tgridmet_smean / pswe_snotel_smean) - 1"
   ]
  },
  {
   "cell_type": "code",
   "execution_count": null,
   "id": "dc7d536d-cbff-4103-b1e2-49e0be3d3259",
   "metadata": {},
   "outputs": [],
   "source": [
    "tgridmet_bias = ((pswe_pprism_tgridmet_smean / pswe_pprism_tprism_smean) - 1) + ((pswe_pprism_tprism_smean / pswe_snotel_smean) - 1)"
   ]
  },
  {
   "cell_type": "markdown",
   "id": "a2c40d32-d088-493e-8364-13f53c0f2c76",
   "metadata": {},
   "source": [
    "##### Livneh"
   ]
  },
  {
   "cell_type": "code",
   "execution_count": null,
   "id": "88f5343e-e13a-485d-bf6e-3ef4db919214",
   "metadata": {},
   "outputs": [],
   "source": [
    "# (pswe_pprism_tlivneh_smean / pswe_snotel_smean) - 1"
   ]
  },
  {
   "cell_type": "code",
   "execution_count": null,
   "id": "7a7d7c74-ecc5-4dd2-8f15-f54a992ff846",
   "metadata": {},
   "outputs": [],
   "source": [
    "tlivneh_bias = ((pswe_pprism_tlivneh_smean / pswe_pprism_tprism_smean) - 1) + ((pswe_pprism_tprism_smean / pswe_snotel_smean) - 1)"
   ]
  },
  {
   "cell_type": "markdown",
   "id": "9f107def-5522-40ff-9e1e-d719c3e902a2",
   "metadata": {},
   "source": [
    "#### 3aiii"
   ]
  },
  {
   "cell_type": "markdown",
   "id": "cbcfcccd-3ee7-4e83-ba9f-b737e5282615",
   "metadata": {},
   "source": [
    "##### Gridmet"
   ]
  },
  {
   "cell_type": "code",
   "execution_count": null,
   "id": "b91a7c9d-ef43-438e-b729-df0839cc71f0",
   "metadata": {},
   "outputs": [],
   "source": [
    "# (pswe_pgridmet_tgridmet_smean / pswe_snotel_smean) - 1"
   ]
  },
  {
   "cell_type": "code",
   "execution_count": null,
   "id": "38a5974b-404c-4265-a7cd-6834e0ddca47",
   "metadata": {},
   "outputs": [],
   "source": [
    "ptgridmet_bias = ((pswe_pgridmet_tgridmet_smean / pswe_pprism_tprism_smean) - 1) + ((pswe_pprism_tprism_smean / pswe_snotel_smean) - 1)"
   ]
  },
  {
   "cell_type": "markdown",
   "id": "48c10272-6074-4ed9-aa05-ee6b6c68715a",
   "metadata": {},
   "source": [
    "##### Livneh"
   ]
  },
  {
   "cell_type": "code",
   "execution_count": null,
   "id": "aa205215-a881-41e5-8072-c621f49f5a1b",
   "metadata": {},
   "outputs": [],
   "source": [
    "# (pswe_plivneh_tlivneh_smean / pswe_snotel_smean) - 1"
   ]
  },
  {
   "cell_type": "code",
   "execution_count": null,
   "id": "ac517779-dbc0-4a3f-9785-cf3cb6cc82ca",
   "metadata": {},
   "outputs": [],
   "source": [
    "ptlivneh_bias = ((pswe_plivneh_tlivneh_smean / pswe_pprism_tprism_smean) - 1) + ((pswe_pprism_tprism_smean / pswe_snotel_smean) - 1)"
   ]
  },
  {
   "cell_type": "markdown",
   "id": "a8e9d35b-dd23-4eaf-a05d-95c996a20263",
   "metadata": {},
   "source": [
    "#### 3b"
   ]
  },
  {
   "cell_type": "code",
   "execution_count": null,
   "id": "122335f4-b3ad-4439-845b-4e3eef3d10ab",
   "metadata": {},
   "outputs": [],
   "source": [
    "# (pswe_pprism_tprism_thjennings_smean / pswe_snotel_smean) - 1"
   ]
  },
  {
   "cell_type": "code",
   "execution_count": null,
   "id": "5a0f751e-2b1b-476f-9465-230719fa9ac8",
   "metadata": {},
   "outputs": [],
   "source": [
    "thjennings_bias = ((pswe_pprism_tprism_thjennings_smean / pswe_pprism_tprism_smean) - 1) + ((pswe_pprism_tprism_smean / pswe_snotel_smean) - 1)"
   ]
  },
  {
   "cell_type": "code",
   "execution_count": null,
   "id": "a2f5e53f-416e-4833-995b-505789226d66",
   "metadata": {},
   "outputs": [],
   "source": []
  },
  {
   "cell_type": "markdown",
   "id": "450f9aa0-10a5-4567-b4bc-98cb7bba868e",
   "metadata": {
    "tags": []
   },
   "source": [
    "## Barplot"
   ]
  },
  {
   "cell_type": "code",
   "execution_count": null,
   "id": "9a1b0ead-a1aa-4e9c-b108-3a3311123028",
   "metadata": {},
   "outputs": [],
   "source": [
    "pswe_mean_diff_list = [snotel_bias, prism_bias, \n",
    "                       pgridmet_bias, tgridmet_bias, ptgridmet_bias, \n",
    "                       plivneh_bias, tlivneh_bias, ptlivneh_bias, \n",
    "                       thjennings_bias]"
   ]
  },
  {
   "cell_type": "code",
   "execution_count": null,
   "id": "8920d62f-080b-41a8-8939-9cca4ed243fa",
   "metadata": {},
   "outputs": [],
   "source": [
    "pswe_mean_diff_df = pd.DataFrame(pswe_mean_diff_list, \n",
    "                                 index = ['SNOTEL', 'PRISM', 'GridMetP', 'GridMetT', 'GridMetPT', 'LivnehP', 'LivnehT', 'LivnehPT', 'JenningsTh'],\n",
    "                                 columns = ['peak_swe_diff'])"
   ]
  },
  {
   "cell_type": "code",
   "execution_count": null,
   "id": "8e8d4446-78fd-4b97-9cbe-416f12203eec",
   "metadata": {},
   "outputs": [],
   "source": [
    "# convert to %\n",
    "pswe_mean_diff_df = pswe_mean_diff_df*100"
   ]
  },
  {
   "cell_type": "code",
   "execution_count": null,
   "id": "1d6cc504-471a-426f-95cb-b1eddfd07d23",
   "metadata": {},
   "outputs": [],
   "source": [
    "# flip order of runs (i.e. rows)\n",
    "pswe_mean_diff_df = pswe_mean_diff_df.iloc[::-1]"
   ]
  },
  {
   "cell_type": "code",
   "execution_count": null,
   "id": "e47c6a43-9df9-4a96-88eb-853740991a80",
   "metadata": {},
   "outputs": [],
   "source": [
    "ax = pswe_mean_diff_df.plot(kind='barh', figsize=(8,5))\n",
    "ax.bar_label(ax.containers[0], fmt='%.2f')\n",
    "ax.set_xlim(-100,100)\n",
    "ax.axvline(0, color='black')\n",
    "ax.set_title('Peak SWE bias')\n",
    "ax.set_xlabel('Peak SWE difference (%)')\n",
    "ax.set_ylabel('Run')\n",
    "for color, bar in zip(['red','palevioletred','palevioletred','palevioletred','lightsalmon','lightsalmon','lightsalmon','darkred','blue'], ax.patches):\n",
    "    bar.set_color(color)\n",
    "plt.savefig(save_dir+'peak_swe_bias.png', dpi=300)"
   ]
  },
  {
   "cell_type": "code",
   "execution_count": null,
   "id": "2bef9ba7-993d-441f-9e61-6358bc2911d8",
   "metadata": {},
   "outputs": [],
   "source": []
  },
  {
   "cell_type": "markdown",
   "id": "ebf7c209-cd5a-47cf-9f53-dbba621816a0",
   "metadata": {},
   "source": [
    "# TMP"
   ]
  },
  {
   "cell_type": "code",
   "execution_count": null,
   "id": "17e4b446-57d4-414e-93ba-d21494a29c8c",
   "metadata": {},
   "outputs": [],
   "source": [
    "import xarray as xr"
   ]
  },
  {
   "cell_type": "code",
   "execution_count": null,
   "id": "f5116c33-956c-42d4-b036-66d7aab38b20",
   "metadata": {},
   "outputs": [],
   "source": [
    "an = xr.open_dataset('/global/cfs/cdirs/risser/PRISM_800M/TOPO_nc/PRISM_TOPO.nc')"
   ]
  },
  {
   "cell_type": "code",
   "execution_count": null,
   "id": "96798f4c-cc06-4fb6-a7b6-cc182d1e0e3a",
   "metadata": {},
   "outputs": [],
   "source": [
    "an.Band1"
   ]
  },
  {
   "cell_type": "code",
   "execution_count": null,
   "id": "978b73d1-b1c8-433c-aab9-b4f845f28703",
   "metadata": {},
   "outputs": [],
   "source": []
  }
 ],
 "metadata": {
  "kernelspec": {
   "display_name": "MyEnv",
   "language": "python",
   "name": "myenv"
  },
  "language_info": {
   "codemirror_mode": {
    "name": "ipython",
    "version": 3
   },
   "file_extension": ".py",
   "mimetype": "text/x-python",
   "name": "python",
   "nbconvert_exporter": "python",
   "pygments_lexer": "ipython3",
   "version": "3.9.11"
  }
 },
 "nbformat": 4,
 "nbformat_minor": 5
}